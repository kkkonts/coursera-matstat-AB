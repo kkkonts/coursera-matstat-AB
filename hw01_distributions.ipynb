{
  "cells": [
    {
      "cell_type": "markdown",
      "metadata": {
        "id": "view-in-github",
        "colab_type": "text"
      },
      "source": [
        "<a href=\"https://colab.research.google.com/github/kkkonts/coursera-matstat-AB/blob/main/hw01_distributions.ipynb\" target=\"_parent\"><img src=\"https://colab.research.google.com/assets/colab-badge.svg\" alt=\"Open In Colab\"/></a>"
      ]
    },
    {
      "cell_type": "markdown",
      "metadata": {
        "id": "3aI2gCS1zgPv"
      },
      "source": [
        "#  Распределения\n",
        "\n",
        "В этом задании мы немного поработаем в python с разными случайными величинами. Делать это задание необязательно, но рекомендуется."
      ]
    },
    {
      "cell_type": "code",
      "execution_count": 2,
      "metadata": {
        "id": "hqdKNfuAzgPw"
      },
      "outputs": [],
      "source": [
        "import numpy as np\n",
        "import pandas as pd\n",
        "\n",
        "import scipy.stats as sts\n",
        "import matplotlib.pyplot as plt\n",
        "import seaborn as sns\n",
        "\n",
        "plt.style.use('seaborn-v0_8-pastel')  # стиль для графиков\n",
        "%matplotlib inline"
      ]
    },
    {
      "cell_type": "markdown",
      "metadata": {
        "id": "WqWSOff7zgPx"
      },
      "source": [
        "## Упражнение 1\n",
        "\n",
        "> Нормальность восстановлена, мы на орбите Магратеи (Автостопом по галактике)\n",
        "\n",
        "__а)__ Задайте генератор для случайной величины имеющей нормальное распределение: $X \\sim N(4, 10^2)$."
      ]
    },
    {
      "cell_type": "code",
      "execution_count": 3,
      "metadata": {
        "nbgrader": {
          "grade": false,
          "grade_id": "cell-21e561bdc8c563e2",
          "locked": false,
          "schema_version": 3,
          "solution": true,
          "task": false
        },
        "id": "CpIv94-dzgPx",
        "colab": {
          "base_uri": "https://localhost:8080/"
        },
        "outputId": "0d2815bc-a2aa-4985-bb93-1223418b8d79"
      },
      "outputs": [
        {
          "output_type": "execute_result",
          "data": {
            "text/plain": [
              "array([ 11.10444055,   3.89809211,   5.21187274, -15.78831993,\n",
              "         5.8318087 ,   2.64309131,  -8.21545091, -16.02743108,\n",
              "         6.11579943,   8.86823135])"
            ]
          },
          "metadata": {},
          "execution_count": 3
        }
      ],
      "source": [
        "norm_rv = sts.norm(loc=4, scale=10)\n",
        "norm_rv.rvs(10)"
      ]
    },
    {
      "cell_type": "markdown",
      "metadata": {
        "id": "WrTsNxn3zgPx"
      },
      "source": [
        "__б)__ Найдите вероятности $P(X > 4)$, $P(X \\in [2; 20])$, $P(X < −5)$. Запишите их в переменные `p1, p2, p3`."
      ]
    },
    {
      "cell_type": "code",
      "execution_count": 4,
      "metadata": {
        "nbgrader": {
          "grade": false,
          "grade_id": "cell-14d3057847804744",
          "locked": false,
          "schema_version": 3,
          "solution": true,
          "task": false
        },
        "id": "-7ReUPW4zgPx"
      },
      "outputs": [],
      "source": [
        "p1 = 1 - norm_rv.cdf(4)\n",
        "p2 = norm_rv.cdf(20) - norm_rv.cdf(2)\n",
        "p3 = norm_rv.cdf(-5)\n"
      ]
    },
    {
      "cell_type": "code",
      "execution_count": 5,
      "metadata": {
        "nbgrader": {
          "grade": true,
          "grade_id": "cell-ebe87628dc40aa0d",
          "locked": true,
          "points": 1,
          "schema_version": 3,
          "solution": false,
          "task": false
        },
        "id": "0KUhszbhzgPx"
      },
      "outputs": [],
      "source": [
        "# Проверка корректно ли вы нашли вероятности :)\n",
        "# Задание необязательное, поэтому все тесты открытые\n",
        "\n",
        "assert p1 == 0.5\n",
        "assert np.abs(p2 - 0.5244604) < 1e-5\n",
        "assert np.abs(p3 - 0.18406012) < 1e-5"
      ]
    },
    {
      "cell_type": "markdown",
      "metadata": {
        "id": "0S3Wcr8UzgPx"
      },
      "source": [
        "__в)__ Найдите число $a$ такое, что $P(X > a) = 0.3$."
      ]
    },
    {
      "cell_type": "code",
      "execution_count": 6,
      "metadata": {
        "nbgrader": {
          "grade": false,
          "grade_id": "cell-42289d9eda89b327",
          "locked": false,
          "schema_version": 3,
          "solution": true,
          "task": false
        },
        "id": "rawtEfzuzgPy"
      },
      "outputs": [],
      "source": [
        "a = norm_rv.ppf(0.7)"
      ]
    },
    {
      "cell_type": "code",
      "execution_count": 7,
      "metadata": {
        "nbgrader": {
          "grade": true,
          "grade_id": "cell-72a1fc8db7e3a18e",
          "locked": true,
          "points": 1,
          "schema_version": 3,
          "solution": false,
          "task": false
        },
        "id": "ZFomrN0dzgPy"
      },
      "outputs": [],
      "source": [
        "assert np.abs(a - 9.2440051) < 1e-5"
      ]
    },
    {
      "cell_type": "markdown",
      "metadata": {
        "id": "7B1HqdyhzgPy"
      },
      "source": [
        "__г)__ Найдите число $b$ такое, что $P(X \\in [4 - b; 4 + b]) = 0.5$."
      ]
    },
    {
      "cell_type": "code",
      "execution_count": 8,
      "metadata": {
        "nbgrader": {
          "grade": false,
          "grade_id": "cell-ebe9ef1162005659",
          "locked": false,
          "schema_version": 3,
          "solution": true,
          "task": false
        },
        "id": "DNASWgPpzgPz"
      },
      "outputs": [],
      "source": [
        "b = 4 - norm_rv.ppf(0.25)"
      ]
    },
    {
      "cell_type": "code",
      "execution_count": 9,
      "metadata": {
        "nbgrader": {
          "grade": true,
          "grade_id": "cell-a918707ad64c1dd2",
          "locked": true,
          "points": 1,
          "schema_version": 3,
          "solution": false,
          "task": false
        },
        "id": "NhXerlOazgPz"
      },
      "outputs": [],
      "source": [
        "assert np.abs(b - 6.7448975) < 1e-5"
      ]
    },
    {
      "cell_type": "markdown",
      "metadata": {
        "id": "83EWtwAHzgPz"
      },
      "source": [
        "__д)__ Сгенерируйте выборку размера $100$. Постройте по этой выборке гистограмму. На том же рисунке изобразите плотность распределения нормальной случайной величины."
      ]
    },
    {
      "cell_type": "code",
      "execution_count": 13,
      "metadata": {
        "nbgrader": {
          "grade": false,
          "grade_id": "cell-62774151762c127c",
          "locked": false,
          "schema_version": 3,
          "solution": true,
          "task": false
        },
        "id": "lbrKPZ4rzgPz",
        "outputId": "0549e059-61a5-4a87-f4f4-a4c501d5659c",
        "colab": {
          "base_uri": "https://localhost:8080/",
          "height": 447
        }
      },
      "outputs": [
        {
          "output_type": "execute_result",
          "data": {
            "text/plain": [
              "[<matplotlib.lines.Line2D at 0x7c13a5b278b0>]"
            ]
          },
          "metadata": {},
          "execution_count": 13
        },
        {
          "output_type": "display_data",
          "data": {
            "text/plain": [
              "<Figure size 640x480 with 1 Axes>"
            ],
            "image/png": "[encoded data removed]"
          },
          "metadata": {}
        }
      ],
      "source": [
        "sample = norm_rv.rvs(100)\n",
        "x = np.linspace(-30, 35, 100)\n",
        "plt.hist(sample, bins=20, density=True)\n",
        "pdf = norm_rv.pdf(x)\n",
        "plt.plot(x, pdf)"
      ]
    },
    {
      "cell_type": "markdown",
      "metadata": {
        "id": "i__rL6G6zgPz"
      },
      "source": [
        "__е)__ Оцените эмпирическую функцию распределения. Изобразите её и теоретическую функцию распределения на графике."
      ]
    },
    {
      "cell_type": "code",
      "execution_count": 16,
      "metadata": {
        "nbgrader": {
          "grade": false,
          "grade_id": "cell-99ec9324e1bf3f73",
          "locked": false,
          "schema_version": 3,
          "solution": true,
          "task": false
        },
        "id": "0I2g-bEnzgPz",
        "outputId": "63c603dc-03f7-4ffe-b7d8-4dfd54911548",
        "colab": {
          "base_uri": "https://localhost:8080/",
          "height": 430
        }
      },
      "outputs": [
        {
          "output_type": "display_data",
          "data": {
            "text/plain": [
              "<Figure size 640x480 with 1 Axes>"
            ],
            "image/png": "[encoded data removed]"
          },
          "metadata": {}
        }
      ],
      "source": [
        "from statsmodels.distributions.empirical_distribution import ECDF\n",
        "\n",
        "# теоретическа cdf\n",
        "cdf = norm_rv.cdf(x)\n",
        "plt.plot(x, cdf, label='theoretical CDF')\n",
        "\n",
        "# эмпирическая сdf\n",
        "ecdf = ECDF(sample)\n",
        "plt.step(ecdf.x, ecdf.y, label='empirical CDF')\n",
        "plt.legend(loc='upper left');"
      ]
    },
    {
      "cell_type": "markdown",
      "metadata": {
        "id": "kO9Ton_WzgP0"
      },
      "source": [
        "## Упражнение 2\n",
        "\n",
        "> Звёзды лучше видны с крыши, полезай и проверь сам. Ты так ждал этот знак свыше, и отметил его как спам. (Дайте танк)\n",
        "\n",
        "Пусть количество писем со спамом, которое пришло к нам на почту, имеет распределение Пуассона. Предположим, что вы получаете в среднем три спам-письма в день. Какова доля дней, в которые вы получаете пять или больше спам-писем?"
      ]
    },
    {
      "cell_type": "code",
      "execution_count": 21,
      "metadata": {
        "nbgrader": {
          "grade": false,
          "grade_id": "cell-e9335d7a188e9bb6",
          "locked": false,
          "schema_version": 3,
          "solution": true,
          "task": false
        },
        "id": "3UrX-AaczgP0",
        "colab": {
          "base_uri": "https://localhost:8080/"
        },
        "outputId": "4a4ff987-ad7f-4eb3-a6d1-df12a9ca29ca"
      },
      "outputs": [
        {
          "output_type": "execute_result",
          "data": {
            "text/plain": [
              "0.18473675547622787"
            ]
          },
          "metadata": {},
          "execution_count": 21
        }
      ],
      "source": [
        "poisson_rv = sts.poisson(mu=3)\n",
        "p = poisson_rv.sf(4)\n",
        "p\n"
      ]
    },
    {
      "cell_type": "code",
      "execution_count": 22,
      "metadata": {
        "nbgrader": {
          "grade": true,
          "grade_id": "cell-98ceec526b48dda9",
          "locked": true,
          "points": 1,
          "schema_version": 3,
          "solution": false,
          "task": false
        },
        "id": "5Q3R1jbZzgP0"
      },
      "outputs": [],
      "source": [
        "assert np.abs(p - 0.1847367) < 1e-5"
      ]
    },
    {
      "cell_type": "markdown",
      "metadata": {
        "id": "ZtV-pKomzgP0"
      },
      "source": [
        "## Упражнение 3\n",
        "\n",
        "Во время ЧЕ по футболу 2008 года и ЧМ 2010 года Осьминог Пауль занимался прогнозированием побед (после он ушёл в финансовую аналитику и IB). Осьминог дал верные прогнозы в 12 случаях из 14. Если предположить, что Пауль выбирает победителя наугад, какова вероятность получить 12 верных прогнозов из 14?"
      ]
    },
    {
      "cell_type": "code",
      "execution_count": 23,
      "metadata": {
        "nbgrader": {
          "grade": false,
          "grade_id": "cell-14be6ed99a0d0875",
          "locked": false,
          "schema_version": 3,
          "solution": true,
          "task": false
        },
        "id": "iUfqdXsPzgP0",
        "colab": {
          "base_uri": "https://localhost:8080/"
        },
        "outputId": "e45ed20d-d96c-4a81-cad9-f745dcf87238"
      },
      "outputs": [
        {
          "output_type": "execute_result",
          "data": {
            "text/plain": [
              "0.005554199218750009"
            ]
          },
          "metadata": {},
          "execution_count": 23
        }
      ],
      "source": [
        "binom_rv = sts.binom(n=14, p=0.5)\n",
        "\n",
        "p = binom_rv.pmf(12)\n",
        "p\n"
      ]
    },
    {
      "cell_type": "code",
      "execution_count": 24,
      "metadata": {
        "nbgrader": {
          "grade": true,
          "grade_id": "cell-2d5479b3d44226ea",
          "locked": true,
          "points": 1,
          "schema_version": 3,
          "solution": false,
          "task": false
        },
        "id": "-TVbxrIlzgP0"
      },
      "outputs": [],
      "source": [
        "assert np.abs(p - 0.0055541) < 1e-5"
      ]
    },
    {
      "cell_type": "markdown",
      "metadata": {
        "id": "7Kirb7IdzgP0"
      },
      "source": [
        "Если предположить, что Осьминог правильно выбирает победителя с вероятностью $0.9$, какова вероятность получить тот же результат?"
      ]
    },
    {
      "cell_type": "code",
      "execution_count": 25,
      "metadata": {
        "nbgrader": {
          "grade": false,
          "grade_id": "cell-6b68d3e49ada3496",
          "locked": false,
          "schema_version": 3,
          "solution": true,
          "task": false
        },
        "id": "1vbzTaX8zgP0",
        "colab": {
          "base_uri": "https://localhost:8080/"
        },
        "outputId": "17573646-3e02-4daa-c50b-f98091d743ca"
      },
      "outputs": [
        {
          "output_type": "execute_result",
          "data": {
            "text/plain": [
              "0.25701087819770996"
            ]
          },
          "metadata": {},
          "execution_count": 25
        }
      ],
      "source": [
        "binom_rv = sts.binom(n=14, p=0.9)\n",
        "\n",
        "p = binom_rv.pmf(12)\n",
        "p"
      ]
    },
    {
      "cell_type": "code",
      "execution_count": 26,
      "metadata": {
        "nbgrader": {
          "grade": true,
          "grade_id": "cell-f594071da5301c73",
          "locked": true,
          "points": 1,
          "schema_version": 3,
          "solution": false,
          "task": false
        },
        "id": "0ss9aV5QzgP0"
      },
      "outputs": [],
      "source": [
        "assert np.abs(p - 0.2570108) < 1e-5"
      ]
    }
  ],
  "metadata": {
    "celltoolbar": "Create Assignment",
    "kernelspec": {
      "display_name": "Python 3",
      "language": "python",
      "name": "python3"
    },
    "language_info": {
      "codemirror_mode": {
        "name": "ipython",
        "version": 3
      },
      "file_extension": ".py",
      "mimetype": "text/x-python",
      "name": "python",
      "nbconvert_exporter": "python",
      "pygments_lexer": "ipython3",
      "version": "3.7.6"
    },
    "colab": {
      "provenance": [],
      "include_colab_link": true
    }
  },
  "nbformat": 4,
  "nbformat_minor": 0
}