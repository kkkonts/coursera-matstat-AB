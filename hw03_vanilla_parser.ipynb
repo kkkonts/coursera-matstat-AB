{
  "cells": [
    {
      "cell_type": "markdown",
      "metadata": {
        "id": "view-in-github",
        "colab_type": "text"
      },
      "source": [
        "<a href=\"https://colab.research.google.com/github/kkkonts/coursera-matstat-AB/blob/main/hw03_vanilla_parser.ipynb\" target=\"_parent\"><img src=\"https://colab.research.google.com/assets/colab-badge.svg\" alt=\"Open In Colab\"/></a>"
      ]
    },
    {
      "cell_type": "markdown",
      "metadata": {
        "id": "nbfuEQD8F5fq"
      },
      "source": [
        "Пришло время самостоятельно написать парсер! Мы будем собирать данные [о ценах на книги.](http://books.toscrape.com)\n",
        "\n",
        "\n",
        "> __ВНИМАНИЕ!__ Почему-то у Coursera после обновления на этом задании перестал работать грейдер. В связи с этим все ответы, которые вы получите при написании кода, придется перенести в тест, который идёт в курсе сразу после этого задания."
      ]
    },
    {
      "cell_type": "code",
      "execution_count": 2,
      "metadata": {
        "colab": {
          "base_uri": "https://localhost:8080/"
        },
        "id": "pRCJHWghF5fu",
        "outputId": "7d904587-a8bf-414e-ef16-c339a0f320be"
      },
      "outputs": [
        {
          "output_type": "stream",
          "name": "stdout",
          "text": [
            "Requirement already satisfied: lxml in /usr/local/lib/python3.10/dist-packages (4.9.3)\n",
            "Collecting selenium\n",
            "  Downloading selenium-4.11.2-py3-none-any.whl (7.2 MB)\n",
            "\u001b[2K     \u001b[90m━━━━━━━━━━━━━━━━━━━━━━━━━━━━━━━━━━━━━━━━\u001b[0m \u001b[32m7.2/7.2 MB\u001b[0m \u001b[31m15.5 MB/s\u001b[0m eta \u001b[36m0:00:00\u001b[0m\n",
            "\u001b[?25hRequirement already satisfied: urllib3[socks]<3,>=1.26 in /usr/local/lib/python3.10/dist-packages (from selenium) (2.0.4)\n",
            "Collecting trio~=0.17 (from selenium)\n",
            "  Downloading trio-0.22.2-py3-none-any.whl (400 kB)\n",
            "\u001b[2K     \u001b[90m━━━━━━━━━━━━━━━━━━━━━━━━━━━━━━━━━━━━━━\u001b[0m \u001b[32m400.2/400.2 kB\u001b[0m \u001b[31m30.1 MB/s\u001b[0m eta \u001b[36m0:00:00\u001b[0m\n",
            "\u001b[?25hCollecting trio-websocket~=0.9 (from selenium)\n",
            "  Downloading trio_websocket-0.10.3-py3-none-any.whl (17 kB)\n",
            "Requirement already satisfied: certifi>=2021.10.8 in /usr/local/lib/python3.10/dist-packages (from selenium) (2023.7.22)\n",
            "Requirement already satisfied: attrs>=20.1.0 in /usr/local/lib/python3.10/dist-packages (from trio~=0.17->selenium) (23.1.0)\n",
            "Requirement already satisfied: sortedcontainers in /usr/local/lib/python3.10/dist-packages (from trio~=0.17->selenium) (2.4.0)\n",
            "Requirement already satisfied: idna in /usr/local/lib/python3.10/dist-packages (from trio~=0.17->selenium) (3.4)\n",
            "Collecting outcome (from trio~=0.17->selenium)\n",
            "  Downloading outcome-1.2.0-py2.py3-none-any.whl (9.7 kB)\n",
            "Requirement already satisfied: sniffio in /usr/local/lib/python3.10/dist-packages (from trio~=0.17->selenium) (1.3.0)\n",
            "Requirement already satisfied: exceptiongroup>=1.0.0rc9 in /usr/local/lib/python3.10/dist-packages (from trio~=0.17->selenium) (1.1.3)\n",
            "Collecting wsproto>=0.14 (from trio-websocket~=0.9->selenium)\n",
            "  Downloading wsproto-1.2.0-py3-none-any.whl (24 kB)\n",
            "Requirement already satisfied: pysocks!=1.5.7,<2.0,>=1.5.6 in /usr/local/lib/python3.10/dist-packages (from urllib3[socks]<3,>=1.26->selenium) (1.7.1)\n",
            "Collecting h11<1,>=0.9.0 (from wsproto>=0.14->trio-websocket~=0.9->selenium)\n",
            "  Downloading h11-0.14.0-py3-none-any.whl (58 kB)\n",
            "\u001b[2K     \u001b[90m━━━━━━━━━━━━━━━━━━━━━━━━━━━━━━━━━━━━━━━━\u001b[0m \u001b[32m58.3/58.3 kB\u001b[0m \u001b[31m5.9 MB/s\u001b[0m eta \u001b[36m0:00:00\u001b[0m\n",
            "\u001b[?25hInstalling collected packages: outcome, h11, wsproto, trio, trio-websocket, selenium\n",
            "Successfully installed h11-0.14.0 outcome-1.2.0 selenium-4.11.2 trio-0.22.2 trio-websocket-0.10.3 wsproto-1.2.0\n",
            "Collecting fake_useragent\n",
            "  Downloading fake_useragent-1.2.1-py3-none-any.whl (14 kB)\n",
            "Installing collected packages: fake_useragent\n",
            "Successfully installed fake_useragent-1.2.1\n"
          ]
        }
      ],
      "source": [
        "!pip3 install lxml\n",
        "!pip install selenium\n",
        "!pip3 install fake_useragent"
      ]
    },
    {
      "cell_type": "code",
      "execution_count": 3,
      "metadata": {
        "deletable": false,
        "nbgrader": {
          "cell_type": "code",
          "checksum": "763c9b123c61d02adcf8e688c14b824e",
          "grade": false,
          "grade_id": "cell-a1d057ec06e84bdd",
          "locked": false,
          "schema_version": 3,
          "solution": true,
          "task": false
        },
        "id": "B_rVUVmEF5ft"
      },
      "outputs": [],
      "source": [
        "# Подгрузите все необходимые для работы пакеты.\n",
        "\n",
        "# Если ваш код будет ругаться, что нет пакета lxml, установите его\n",
        "# Для этого выполните в одной из ячеек команду !pip3 install lxml\n",
        "from typing import List\n",
        "from selenium import webdriver\n",
        "from bs4 import BeautifulSoup\n",
        "import requests\n",
        "from tqdm import tqdm_notebook\n",
        "import time\n",
        "import pandas as pd\n",
        "import numpy as np\n",
        "from fake_useragent import UserAgent\n"
      ]
    },
    {
      "cell_type": "code",
      "execution_count": 4,
      "metadata": {
        "deletable": false,
        "editable": false,
        "nbgrader": {
          "cell_type": "code",
          "checksum": "271359fd82a7bed1144248a66405ca7f",
          "grade": true,
          "grade_id": "cell-5e0ee82c41142a9d",
          "locked": true,
          "points": 1,
          "schema_version": 3,
          "solution": false,
          "task": false
        },
        "id": "v87o6mnNF5fv"
      },
      "outputs": [],
      "source": [
        "# фиктивная проверка"
      ]
    },
    {
      "cell_type": "markdown",
      "metadata": {
        "id": "A0N7YPYNF5fv"
      },
      "source": [
        "Прогуляйтесь на сайт http://books.toscrape.com/ и изучите его структуру.  \n",
        "\n",
        "\n",
        "# 1. Сбор ссылок на книги\n",
        "\n",
        "Напишите функцию `get_soup`, которая по ссылке возвращает html-разметку страницы в формате `bs4`"
      ]
    },
    {
      "cell_type": "code",
      "execution_count": 5,
      "metadata": {
        "deletable": false,
        "nbgrader": {
          "cell_type": "code",
          "checksum": "9c97f15308c26fba4787e1ed46be1762",
          "grade": false,
          "grade_id": "cell-bb3dd3de95e8b98e",
          "locked": false,
          "schema_version": 3,
          "solution": true,
          "task": false
        },
        "colab": {
          "base_uri": "https://localhost:8080/"
        },
        "id": "coJwrAs_F5fv",
        "outputId": "d27eea38-52a5-4e3b-dfa1-62a57273a7f9"
      },
      "outputs": [
        {
          "output_type": "execute_result",
          "data": {
            "text/plain": [
              "<title>\n",
              "    All products | Books to Scrape - Sandbox\n",
              "</title>"
            ]
          },
          "metadata": {},
          "execution_count": 5
        }
      ],
      "source": [
        "def get_page_soup(url_link):\n",
        "    response = requests.get(page_link)\n",
        "    html = response.content\n",
        "    soup = BeautifulSoup(html,'html.parser')\n",
        "    return soup\n",
        "\n",
        "page_link = 'http://books.toscrape.com/'\n",
        "get_page_soup(page_link).html.head.title"
      ]
    },
    {
      "cell_type": "code",
      "execution_count": 6,
      "metadata": {
        "colab": {
          "base_uri": "https://localhost:8080/",
          "height": 35
        },
        "id": "Xx7fjLNnF5fv",
        "outputId": "1450adc2-cb99-4821-8bef-095696df2818"
      },
      "outputs": [
        {
          "output_type": "execute_result",
          "data": {
            "text/plain": [
              "'Books to Scrape'"
            ],
            "application/vnd.google.colaboratory.intrinsic+json": {
              "type": "string"
            }
          },
          "metadata": {},
          "execution_count": 6
        }
      ],
      "source": [
        "main_url = 'http://books.toscrape.com/catalogue/'\n",
        "page_number = 5\n",
        "\n",
        "soup = get_page_soup(main_url + f'page-{page_number}.html')\n",
        "soup.find_all('a')[0].text"
      ]
    },
    {
      "cell_type": "markdown",
      "metadata": {
        "id": "-zmsXvG9F5fw"
      },
      "source": [
        "Напишите функцию `get_books_links`, которая находит в html-разметке страницы ссылки на странички с отдельными книгами."
      ]
    },
    {
      "cell_type": "code",
      "execution_count": 7,
      "metadata": {
        "deletable": false,
        "nbgrader": {
          "cell_type": "code",
          "checksum": "f2bcfb757d246472754f42327e7f193d",
          "grade": false,
          "grade_id": "cell-565bf344d89fef43",
          "locked": false,
          "schema_version": 3,
          "solution": true,
          "task": false
        },
        "colab": {
          "base_uri": "https://localhost:8080/"
        },
        "id": "1OYMmi_8F5fw",
        "outputId": "fb894fd0-f507-41d0-9c7f-dab4ff09fd35"
      },
      "outputs": [
        {
          "output_type": "execute_result",
          "data": {
            "text/plain": [
              "['catalogue/a-light-in-the-attic_1000/index.html',\n",
              " 'catalogue/tipping-the-velvet_999/index.html',\n",
              " 'catalogue/soumission_998/index.html',\n",
              " 'catalogue/sharp-objects_997/index.html',\n",
              " 'catalogue/sapiens-a-brief-history-of-humankind_996/index.html',\n",
              " 'catalogue/the-requiem-red_995/index.html',\n",
              " 'catalogue/the-dirty-little-secrets-of-getting-your-dream-job_994/index.html',\n",
              " 'catalogue/the-coming-woman-a-novel-based-on-the-life-of-the-infamous-feminist-victoria-woodhull_993/index.html',\n",
              " 'catalogue/the-boys-in-the-boat-nine-americans-and-their-epic-quest-for-gold-at-the-1936-berlin-olympics_992/index.html',\n",
              " 'catalogue/the-black-maria_991/index.html',\n",
              " 'catalogue/starving-hearts-triangular-trade-trilogy-1_990/index.html',\n",
              " 'catalogue/shakespeares-sonnets_989/index.html',\n",
              " 'catalogue/set-me-free_988/index.html',\n",
              " 'catalogue/scott-pilgrims-precious-little-life-scott-pilgrim-1_987/index.html',\n",
              " 'catalogue/rip-it-up-and-start-again_986/index.html',\n",
              " 'catalogue/our-band-could-be-your-life-scenes-from-the-american-indie-underground-1981-1991_985/index.html',\n",
              " 'catalogue/olio_984/index.html',\n",
              " 'catalogue/mesaerion-the-best-science-fiction-stories-1800-1849_983/index.html',\n",
              " 'catalogue/libertarianism-for-beginners_982/index.html',\n",
              " 'catalogue/its-only-the-himalayas_981/index.html']"
            ]
          },
          "metadata": {},
          "execution_count": 7
        }
      ],
      "source": [
        "def get_book_links(page_soup) -> List[str]:\n",
        "    a_list = soup.select(\"h3 > a\")\n",
        "    #a = h3.find('a').attrs['href']\n",
        "\n",
        "    return [a.attrs['href'] for a in a_list]\n",
        "links = get_book_links(soup)\n",
        "links"
      ]
    },
    {
      "cell_type": "markdown",
      "metadata": {
        "id": "jhGfQyDPF5fw"
      },
      "source": [
        "С помощью цикла соберите в лист `book_links` первые 200 книг."
      ]
    },
    {
      "cell_type": "code",
      "execution_count": 8,
      "metadata": {
        "deletable": false,
        "nbgrader": {
          "cell_type": "code",
          "checksum": "25cc39adb04c7c00c5e117837d9c606d",
          "grade": false,
          "grade_id": "cell-883211fab847e672",
          "locked": false,
          "schema_version": 3,
          "solution": true,
          "task": false
        },
        "colab": {
          "base_uri": "https://localhost:8080/"
        },
        "id": "TqMUIIPZF5fx",
        "outputId": "0d629948-599c-42fc-a3d7-e8135fc9189b"
      },
      "outputs": [
        {
          "output_type": "execute_result",
          "data": {
            "text/plain": [
              "200"
            ]
          },
          "metadata": {},
          "execution_count": 8
        }
      ],
      "source": [
        "book_links = links\n",
        "main_url = 'http://books.toscrape.com/catalogue/'\n",
        "page_number = 2\n",
        "\n",
        "while len(book_links) < 200:\n",
        "    soup = get_page_soup(main_url + f'page-{page_number}.html')\n",
        "    page_number += 1\n",
        "    book_links.extend(get_book_links(soup))\n",
        "\n",
        "len(book_links)"
      ]
    },
    {
      "cell_type": "markdown",
      "metadata": {
        "id": "JcWjl04tF5fx"
      },
      "source": [
        "# 2. Сбор информации о книгах\n",
        "\n",
        "Напишите несколько небольших функций, которые собирают различные данные об одной книге, необходимые для ответов на вопросы ниже. Информацию о книге собирайте в виде словаря вида\n",
        "\n",
        "```\n",
        "{ 'name': 'Преступление и наказание', 'rating': 1, 'description': 'ужасно депрессивная книга', ... }\n",
        "\n",
        "```"
      ]
    },
    {
      "cell_type": "code",
      "execution_count": 33,
      "metadata": {
        "deletable": false,
        "nbgrader": {
          "cell_type": "code",
          "checksum": "defea54e7bc7d4545e27bbd019f41ae2",
          "grade": false,
          "grade_id": "cell-a3b3b4c91addb471",
          "locked": false,
          "schema_version": 3,
          "solution": true,
          "task": false
        },
        "colab": {
          "base_uri": "https://localhost:8080/"
        },
        "id": "v8NADeRxF5fx",
        "outputId": "32932e1d-8353-442a-b58e-1273eaa2476b"
      },
      "outputs": [
        {
          "output_type": "stream",
          "name": "stderr",
          "text": [
            "<ipython-input-33-4b0cff82caa4>:16: DeprecationWarning: The 'text' argument to find()-type methods is deprecated. Use 'string' instead.\n",
            "  book_info['tax'] = float(table.find('th', text='Tax').parent.find('td').text[1:])\n",
            "<ipython-input-33-4b0cff82caa4>:17: DeprecationWarning: The 'text' argument to find()-type methods is deprecated. Use 'string' instead.\n",
            "  book_info['price'] = float(table.find('th', text='Price (excl. tax)').parent.find('td').text[1:])\n"
          ]
        },
        {
          "output_type": "execute_result",
          "data": {
            "text/plain": [
              "{'name': 'Soumission',\n",
              " 'rating': 1,\n",
              " 'description': 'Dans une France assez proche de la nôtre, un homme s’engage dans la carrière universitaire. Peu motivé par l’enseignement, il s’attend à une vie ennuyeuse mais calme, protégée des grands drames historiques. Cependant les forces en jeu dans le pays ont fissuré le système politique jusqu’à provoquer son effondrement. Cette implosion sans soubresauts, sans vraie révolution, s Dans une France assez proche de la nôtre, un homme s’engage dans la carrière universitaire. Peu motivé par l’enseignement, il s’attend à une vie ennuyeuse mais calme, protégée des grands drames historiques. Cependant les forces en jeu dans le pays ont fissuré le système politique jusqu’à provoquer son effondrement. Cette implosion sans soubresauts, sans vraie révolution, se développe comme un mauvais rêve.Le talent de l’auteur, sa force visionnaire nous entraînent sur un terrain ambigu et glissant ; son regard sur notre civilisation vieillissante fait coexister dans ce roman les intuitions poétiques, les effets comiques, une mélancolie fataliste.Ce livre est une saisissante fable politique et morale. ...more',\n",
              " 'tax': 0.0,\n",
              " 'price': 50.1}"
            ]
          },
          "metadata": {},
          "execution_count": 33
        }
      ],
      "source": [
        "let_to_num = {'One': 1, 'Two': 2, 'Three': 3, 'Four': 4, 'Five': 5}\n",
        "\n",
        "def get_book_info(book_link: str) -> dict:\n",
        "    book_info = {}\n",
        "    book_link = 'http://books.toscrape.com/' + book_link\n",
        "\n",
        "    response = requests.get(book_link)\n",
        "    html = html = response.content\n",
        "    book_soup = BeautifulSoup(html,'html.parser')\n",
        "\n",
        "    book_info['name'] = book_soup.find(class_='product_main').h1.text\n",
        "    book_info['rating'] = let_to_num[book_soup.find(class_='star-rating').attrs['class'][1]]\n",
        "    book_info['description'] = book_soup.find(lambda tag: tag.name == 'p' and not tag.attrs).text\n",
        "\n",
        "    table = book_soup.find(class_='table')\n",
        "    book_info['tax'] = float(table.find('th', text='Tax').parent.find('td').text[1:])\n",
        "    book_info['price'] = float(table.find('th', text='Price (excl. tax)').parent.find('td').text[1:])\n",
        "\n",
        "\n",
        "    return book_info\n",
        "\n",
        "get_book_info(links[2])"
      ]
    },
    {
      "cell_type": "code",
      "source": [],
      "metadata": {
        "id": "vbSSSITm-G4d"
      },
      "execution_count": null,
      "outputs": []
    },
    {
      "cell_type": "markdown",
      "metadata": {
        "id": "89sbDyLOF5fy"
      },
      "source": [
        "Пройдите циклом по всем сыслкам из списка `book_links` и соберите данные о книгах в вектор `book_info`."
      ]
    },
    {
      "cell_type": "code",
      "execution_count": 41,
      "metadata": {
        "deletable": false,
        "nbgrader": {
          "cell_type": "code",
          "checksum": "418e8b0cadc167a34bd0937d72934bb4",
          "grade": false,
          "grade_id": "cell-240b7f956c433b45",
          "locked": false,
          "schema_version": 3,
          "solution": true,
          "task": false
        },
        "colab": {
          "base_uri": "https://localhost:8080/",
          "height": 899,
          "referenced_widgets": [
            "cc74783c370e47969b1c3dc1c85e9ec1",
            "24f2ad9fae4f440c83ac0845cfb436fc",
            "a5189cdfdd8e41c5a1c367f907dd9848",
            "47641ae8c8dc4eeaa7d99452d06befda",
            "d5b89dee3a204a18bfc51ec38d259514",
            "fc429a58714647068628b68c95ab782a",
            "1def6d64a707499cab89907982b74995",
            "e0546e8c2ad84ca2a4a3cf8c4f1671e9",
            "feb0f1d253fa465ebdf095dd610b16f8",
            "d84709da92754e5eb3430f439483d618",
            "b370c83cbcad4ccba42b87e02c83d07c"
          ]
        },
        "id": "6ngStQMzF5fy",
        "outputId": "b86b8125-855e-4165-a621-daf2a8853612"
      },
      "outputs": [
        {
          "output_type": "stream",
          "name": "stderr",
          "text": [
            "<ipython-input-41-2a0d0edd392f>:3: TqdmDeprecationWarning: This function will be removed in tqdm==5.0.0\n",
            "Please use `tqdm.notebook.tqdm` instead of `tqdm.tqdm_notebook`\n",
            "  for link in tqdm_notebook(links):\n"
          ]
        },
        {
          "output_type": "display_data",
          "data": {
            "text/plain": [
              "  0%|          | 0/200 [00:00<?, ?it/s]"
            ],
            "application/vnd.jupyter.widget-view+json": {
              "version_major": 2,
              "version_minor": 0,
              "model_id": "cc74783c370e47969b1c3dc1c85e9ec1"
            }
          },
          "metadata": {}
        },
        {
          "output_type": "stream",
          "name": "stderr",
          "text": [
            "<ipython-input-33-4b0cff82caa4>:16: DeprecationWarning: The 'text' argument to find()-type methods is deprecated. Use 'string' instead.\n",
            "  book_info['tax'] = float(table.find('th', text='Tax').parent.find('td').text[1:])\n",
            "<ipython-input-33-4b0cff82caa4>:17: DeprecationWarning: The 'text' argument to find()-type methods is deprecated. Use 'string' instead.\n",
            "  book_info['price'] = float(table.find('th', text='Price (excl. tax)').parent.find('td').text[1:])\n"
          ]
        },
        {
          "output_type": "execute_result",
          "data": {
            "text/plain": [
              "[{'name': 'Mesaerion: The Best Science Fiction Stories 1800-1849',\n",
              "  'rating': 1,\n",
              "  'description': 'Andrew Barger, award-winning author and engineer, has extensively researched forgotten journals and magazines of the early 19th century to locate groundbreaking science fiction short stories in the English language. In doing so, he found what is possibly the first science fiction story by a female (and it is not from Mary Shelley). Andrew located the first steampunk short Andrew Barger, award-winning author and engineer, has extensively researched forgotten journals and magazines of the early 19th century to locate groundbreaking science fiction short stories in the English language. In doing so, he found what is possibly the first science fiction story by a female (and it is not from Mary Shelley). Andrew located the first steampunk short story, which has not been republished since 1844. There is the first voyage to the moon in a balloon, republished for the first time since 1820 that further tells of a darkness machine and a lunarian named Zuloc. Other sci-stories include the first robotic insect and an electricity gun. Once again, Andrew has searched old texts to find the very best science fiction stories from the period when the genre automated to life, some of the stories are published for the first time in nearly 200 years. Read these fantastic stories today!OUR OWN COUNTRY So mechanical has the age become, that men seriously talk of flying machines, to go by steam, --not your air-balloons, but real Daedalian wings, made of wood and joints, nailed to your shoulder, --not wings of feathers and wax like the wings of Icarus, who fell into the Cretan sea, but real, solid, substantial, rock-maple wings with wrought-iron hinges, and huge concavities, to propel us through the air. Knickerbocker Magazine, May 18 ...more',\n",
              "  'tax': 0.0,\n",
              "  'price': 37.59},\n",
              " {'name': 'Libertarianism for Beginners',\n",
              "  'rating': 2,\n",
              "  'description': 'Libertarianism isn\\'t about winning elections; it is first and foremost a political philosophy--a description of how, in the opinion of libertarians, free people ought to treat one another, at least when they use the law, which they regard as potentially dangerous. If libertarians are correct, the law should intrude into people\\'s lives as little as possible, rarely telling Libertarianism isn\\'t about winning elections; it is first and foremost a political philosophy--a description of how, in the opinion of libertarians, free people ought to treat one another, at least when they use the law, which they regard as potentially dangerous. If libertarians are correct, the law should intrude into people\\'s lives as little as possible, rarely telling them what to do or how to live.A political and economic philosophy as old as John Locke and John Stuart Mill, but as alive and timely as Rand Paul, the Tea Party, and the novels of Ayn Rand, libertarianism emphasizes individual rights and calls for a radical reduction in the power and size of government. \"Libertarianism For Beginners\" lays out the history and principles of this often-misunderstood philosophy in lucid, dispassionate terms that help illuminate today\\'s political dialogue.\" ...more',\n",
              "  'tax': 0.0,\n",
              "  'price': 51.33},\n",
              " {'name': \"It's Only the Himalayas\",\n",
              "  'rating': 2,\n",
              "  'description': '“Wherever you go, whatever you do, just . . . don’t do anything stupid.” —My MotherDuring her yearlong adventure backpacking from South Africa to Singapore, S. Bedford definitely did a few things her mother might classify as \"stupid.\" She swam with great white sharks in South Africa, ran from lions in Zimbabwe, climbed a Himalayan mountain without training in Nepal, and wa “Wherever you go, whatever you do, just . . . don’t do anything stupid.” —My MotherDuring her yearlong adventure backpacking from South Africa to Singapore, S. Bedford definitely did a few things her mother might classify as \"stupid.\" She swam with great white sharks in South Africa, ran from lions in Zimbabwe, climbed a Himalayan mountain without training in Nepal, and watched as her friend was attacked by a monkey in Indonesia.But interspersed in those slightly more crazy moments, Sue Bedfored and her friend \"Sara the Stoic\" experienced the sights, sounds, life, and culture of fifteen countries. Joined along the way by a few friends and their aging fathers here and there, Sue and Sara experience the trip of a lifetime. They fall in love with the world, cultivate an appreciation for home, and discover who, or what, they want to become.It\\'s Only the Himalayas is the incredibly funny, sometimes outlandish, always entertaining confession of a young backpacker that will inspire you to take your own adventure. ...more',\n",
              "  'tax': 0.0,\n",
              "  'price': 45.17}]"
            ]
          },
          "metadata": {},
          "execution_count": 41
        }
      ],
      "source": [
        "book_info = []\n",
        "\n",
        "for link in tqdm_notebook(links):\n",
        "    book_info.append(get_book_info(link))\n",
        "\n",
        "book_info[-3:]"
      ]
    },
    {
      "cell_type": "markdown",
      "metadata": {
        "id": "uC58g8V8F5fy"
      },
      "source": [
        "Превратим вектор из информации в полноценную таблицу с данными."
      ]
    },
    {
      "cell_type": "code",
      "execution_count": 37,
      "metadata": {
        "colab": {
          "base_uri": "https://localhost:8080/",
          "height": 376
        },
        "id": "dxyofa7BF5fy",
        "outputId": "903ca90e-43be-4c49-9f4c-17393ad19c3a"
      },
      "outputs": [
        {
          "output_type": "stream",
          "name": "stdout",
          "text": [
            "(200, 5)\n"
          ]
        },
        {
          "output_type": "execute_result",
          "data": {
            "text/plain": [
              "                                                name  rating  \\\n",
              "0                               A Light in the Attic       3   \n",
              "1                                 Tipping the Velvet       1   \n",
              "2                                         Soumission       1   \n",
              "3                                      Sharp Objects       4   \n",
              "4              Sapiens: A Brief History of Humankind       5   \n",
              "5                                    The Requiem Red       1   \n",
              "6  The Dirty Little Secrets of Getting Your Dream...       4   \n",
              "7  The Coming Woman: A Novel Based on the Life of...       3   \n",
              "8  The Boys in the Boat: Nine Americans and Their...       4   \n",
              "9                                    The Black Maria       1   \n",
              "\n",
              "                                         description  tax  price  \n",
              "0  It's hard to imagine a world without A Light i...  0.0  51.77  \n",
              "1  \"Erotic and absorbing...Written with starling ...  0.0  53.74  \n",
              "2  Dans une France assez proche de la nôtre, un h...  0.0  50.10  \n",
              "3  WICKED above her hipbone, GIRL across her hear...  0.0  47.82  \n",
              "4  From a renowned historian comes a groundbreaki...  0.0  54.23  \n",
              "5  Patient Twenty-nine.A monster roams the halls ...  0.0  22.65  \n",
              "6  Drawing on his extensive experience evaluating...  0.0  33.34  \n",
              "7  \"If you have a heart, if you have a soul, Kare...  0.0  17.93  \n",
              "8  For readers of Laura Hillenbrand's Seabiscuit ...  0.0  22.60  \n",
              "9  Praise for Aracelis Girmay:\"[Girmay's] every l...  0.0  52.15  "
            ],
            "text/html": [
              "\n",
              "  <div id=\"df-2a758659-e1cf-4621-bfc4-5b665c62179a\" class=\"colab-df-container\">\n",
              "    <div>\n",
              "<style scoped>\n",
              "    .dataframe tbody tr th:only-of-type {\n",
              "        vertical-align: middle;\n",
              "    }\n",
              "\n",
              "    .dataframe tbody tr th {\n",
              "        vertical-align: top;\n",
              "    }\n",
              "\n",
              "    .dataframe thead th {\n",
              "        text-align: right;\n",
              "    }\n",
              "</style>\n",
              "<table border=\"1\" class=\"dataframe\">\n",
              "  <thead>\n",
              "    <tr style=\"text-align: right;\">\n",
              "      <th></th>\n",
              "      <th>name</th>\n",
              "      <th>rating</th>\n",
              "      <th>description</th>\n",
              "      <th>tax</th>\n",
              "      <th>price</th>\n",
              "    </tr>\n",
              "  </thead>\n",
              "  <tbody>\n",
              "    <tr>\n",
              "      <th>0</th>\n",
              "      <td>A Light in the Attic</td>\n",
              "      <td>3</td>\n",
              "      <td>It's hard to imagine a world without A Light i...</td>\n",
              "      <td>0.0</td>\n",
              "      <td>51.77</td>\n",
              "    </tr>\n",
              "    <tr>\n",
              "      <th>1</th>\n",
              "      <td>Tipping the Velvet</td>\n",
              "      <td>1</td>\n",
              "      <td>\"Erotic and absorbing...Written with starling ...</td>\n",
              "      <td>0.0</td>\n",
              "      <td>53.74</td>\n",
              "    </tr>\n",
              "    <tr>\n",
              "      <th>2</th>\n",
              "      <td>Soumission</td>\n",
              "      <td>1</td>\n",
              "      <td>Dans une France assez proche de la nôtre, un h...</td>\n",
              "      <td>0.0</td>\n",
              "      <td>50.10</td>\n",
              "    </tr>\n",
              "    <tr>\n",
              "      <th>3</th>\n",
              "      <td>Sharp Objects</td>\n",
              "      <td>4</td>\n",
              "      <td>WICKED above her hipbone, GIRL across her hear...</td>\n",
              "      <td>0.0</td>\n",
              "      <td>47.82</td>\n",
              "    </tr>\n",
              "    <tr>\n",
              "      <th>4</th>\n",
              "      <td>Sapiens: A Brief History of Humankind</td>\n",
              "      <td>5</td>\n",
              "      <td>From a renowned historian comes a groundbreaki...</td>\n",
              "      <td>0.0</td>\n",
              "      <td>54.23</td>\n",
              "    </tr>\n",
              "    <tr>\n",
              "      <th>5</th>\n",
              "      <td>The Requiem Red</td>\n",
              "      <td>1</td>\n",
              "      <td>Patient Twenty-nine.A monster roams the halls ...</td>\n",
              "      <td>0.0</td>\n",
              "      <td>22.65</td>\n",
              "    </tr>\n",
              "    <tr>\n",
              "      <th>6</th>\n",
              "      <td>The Dirty Little Secrets of Getting Your Dream...</td>\n",
              "      <td>4</td>\n",
              "      <td>Drawing on his extensive experience evaluating...</td>\n",
              "      <td>0.0</td>\n",
              "      <td>33.34</td>\n",
              "    </tr>\n",
              "    <tr>\n",
              "      <th>7</th>\n",
              "      <td>The Coming Woman: A Novel Based on the Life of...</td>\n",
              "      <td>3</td>\n",
              "      <td>\"If you have a heart, if you have a soul, Kare...</td>\n",
              "      <td>0.0</td>\n",
              "      <td>17.93</td>\n",
              "    </tr>\n",
              "    <tr>\n",
              "      <th>8</th>\n",
              "      <td>The Boys in the Boat: Nine Americans and Their...</td>\n",
              "      <td>4</td>\n",
              "      <td>For readers of Laura Hillenbrand's Seabiscuit ...</td>\n",
              "      <td>0.0</td>\n",
              "      <td>22.60</td>\n",
              "    </tr>\n",
              "    <tr>\n",
              "      <th>9</th>\n",
              "      <td>The Black Maria</td>\n",
              "      <td>1</td>\n",
              "      <td>Praise for Aracelis Girmay:\"[Girmay's] every l...</td>\n",
              "      <td>0.0</td>\n",
              "      <td>52.15</td>\n",
              "    </tr>\n",
              "  </tbody>\n",
              "</table>\n",
              "</div>\n",
              "    <div class=\"colab-df-buttons\">\n",
              "\n",
              "  <div class=\"colab-df-container\">\n",
              "    <button class=\"colab-df-convert\" onclick=\"convertToInteractive('df-2a758659-e1cf-4621-bfc4-5b665c62179a')\"\n",
              "            title=\"Convert this dataframe to an interactive table.\"\n",
              "            style=\"display:none;\">\n",
              "\n",
              "  <svg xmlns=\"http://www.w3.org/2000/svg\" height=\"24px\" viewBox=\"0 -960 960 960\">\n",
              "    <path d=\"M120-120v-720h720v720H120Zm60-500h600v-160H180v160Zm220 220h160v-160H400v160Zm0 220h160v-160H400v160ZM180-400h160v-160H180v160Zm440 0h160v-160H620v160ZM180-180h160v-160H180v160Zm440 0h160v-160H620v160Z\"/>\n",
              "  </svg>\n",
              "    </button>\n",
              "\n",
              "  <style>\n",
              "    .colab-df-container {\n",
              "      display:flex;\n",
              "      gap: 12px;\n",
              "    }\n",
              "\n",
              "    .colab-df-convert {\n",
              "      background-color: #E8F0FE;\n",
              "      border: none;\n",
              "      border-radius: 50%;\n",
              "      cursor: pointer;\n",
              "      display: none;\n",
              "      fill: #1967D2;\n",
              "      height: 32px;\n",
              "      padding: 0 0 0 0;\n",
              "      width: 32px;\n",
              "    }\n",
              "\n",
              "    .colab-df-convert:hover {\n",
              "      background-color: #E2EBFA;\n",
              "      box-shadow: 0px 1px 2px rgba(60, 64, 67, 0.3), 0px 1px 3px 1px rgba(60, 64, 67, 0.15);\n",
              "      fill: #174EA6;\n",
              "    }\n",
              "\n",
              "    .colab-df-buttons div {\n",
              "      margin-bottom: 4px;\n",
              "    }\n",
              "\n",
              "    [theme=dark] .colab-df-convert {\n",
              "      background-color: #3B4455;\n",
              "      fill: #D2E3FC;\n",
              "    }\n",
              "\n",
              "    [theme=dark] .colab-df-convert:hover {\n",
              "      background-color: #434B5C;\n",
              "      box-shadow: 0px 1px 3px 1px rgba(0, 0, 0, 0.15);\n",
              "      filter: drop-shadow(0px 1px 2px rgba(0, 0, 0, 0.3));\n",
              "      fill: #FFFFFF;\n",
              "    }\n",
              "  </style>\n",
              "\n",
              "    <script>\n",
              "      const buttonEl =\n",
              "        document.querySelector('#df-2a758659-e1cf-4621-bfc4-5b665c62179a button.colab-df-convert');\n",
              "      buttonEl.style.display =\n",
              "        google.colab.kernel.accessAllowed ? 'block' : 'none';\n",
              "\n",
              "      async function convertToInteractive(key) {\n",
              "        const element = document.querySelector('#df-2a758659-e1cf-4621-bfc4-5b665c62179a');\n",
              "        const dataTable =\n",
              "          await google.colab.kernel.invokeFunction('convertToInteractive',\n",
              "                                                    [key], {});\n",
              "        if (!dataTable) return;\n",
              "\n",
              "        const docLinkHtml = 'Like what you see? Visit the ' +\n",
              "          '<a target=\"_blank\" href=https://colab.research.google.com/notebooks/data_table.ipynb>data table notebook</a>'\n",
              "          + ' to learn more about interactive tables.';\n",
              "        element.innerHTML = '';\n",
              "        dataTable['output_type'] = 'display_data';\n",
              "        await google.colab.output.renderOutput(dataTable, element);\n",
              "        const docLink = document.createElement('div');\n",
              "        docLink.innerHTML = docLinkHtml;\n",
              "        element.appendChild(docLink);\n",
              "      }\n",
              "    </script>\n",
              "  </div>\n",
              "\n",
              "\n",
              "<div id=\"df-316c3ac7-93f2-4639-af3e-c6782a2c2a5c\">\n",
              "  <button class=\"colab-df-quickchart\" onclick=\"quickchart('df-316c3ac7-93f2-4639-af3e-c6782a2c2a5c')\"\n",
              "            title=\"Suggest charts.\"\n",
              "            style=\"display:none;\">\n",
              "\n",
              "<svg xmlns=\"http://www.w3.org/2000/svg\" height=\"24px\"viewBox=\"0 0 24 24\"\n",
              "     width=\"24px\">\n",
              "    <g>\n",
              "        <path d=\"M19 3H5c-1.1 0-2 .9-2 2v14c0 1.1.9 2 2 2h14c1.1 0 2-.9 2-2V5c0-1.1-.9-2-2-2zM9 17H7v-7h2v7zm4 0h-2V7h2v10zm4 0h-2v-4h2v4z\"/>\n",
              "    </g>\n",
              "</svg>\n",
              "  </button>\n",
              "\n",
              "<style>\n",
              "  .colab-df-quickchart {\n",
              "    background-color: #E8F0FE;\n",
              "    border: none;\n",
              "    border-radius: 50%;\n",
              "    cursor: pointer;\n",
              "    display: none;\n",
              "    fill: #1967D2;\n",
              "    height: 32px;\n",
              "    padding: 0 0 0 0;\n",
              "    width: 32px;\n",
              "  }\n",
              "\n",
              "  .colab-df-quickchart:hover {\n",
              "    background-color: #E2EBFA;\n",
              "    box-shadow: 0px 1px 2px rgba(60, 64, 67, 0.3), 0px 1px 3px 1px rgba(60, 64, 67, 0.15);\n",
              "    fill: #174EA6;\n",
              "  }\n",
              "\n",
              "  [theme=dark] .colab-df-quickchart {\n",
              "    background-color: #3B4455;\n",
              "    fill: #D2E3FC;\n",
              "  }\n",
              "\n",
              "  [theme=dark] .colab-df-quickchart:hover {\n",
              "    background-color: #434B5C;\n",
              "    box-shadow: 0px 1px 3px 1px rgba(0, 0, 0, 0.15);\n",
              "    filter: drop-shadow(0px 1px 2px rgba(0, 0, 0, 0.3));\n",
              "    fill: #FFFFFF;\n",
              "  }\n",
              "</style>\n",
              "\n",
              "  <script>\n",
              "    async function quickchart(key) {\n",
              "      const charts = await google.colab.kernel.invokeFunction(\n",
              "          'suggestCharts', [key], {});\n",
              "    }\n",
              "    (() => {\n",
              "      let quickchartButtonEl =\n",
              "        document.querySelector('#df-316c3ac7-93f2-4639-af3e-c6782a2c2a5c button');\n",
              "      quickchartButtonEl.style.display =\n",
              "        google.colab.kernel.accessAllowed ? 'block' : 'none';\n",
              "    })();\n",
              "  </script>\n",
              "</div>\n",
              "    </div>\n",
              "  </div>\n"
            ]
          },
          "metadata": {},
          "execution_count": 37
        }
      ],
      "source": [
        "book_info_df = pd.DataFrame(book_info)\n",
        "print(book_info_df.shape)\n",
        "book_info_df.head(10)"
      ]
    },
    {
      "cell_type": "markdown",
      "metadata": {
        "id": "S8zYcCE3F5fz"
      },
      "source": [
        "Теперь, когда все данные собраны, настало время ответить на несколько вопросов:"
      ]
    },
    {
      "cell_type": "markdown",
      "metadata": {
        "id": "uiNMtSatF5fz"
      },
      "source": [
        "- У скольких книг отсутствует описание? Ответ на этот вопрос вбейте в тест, который идёт после лабораторной работы."
      ]
    },
    {
      "cell_type": "code",
      "execution_count": 29,
      "metadata": {
        "deletable": false,
        "nbgrader": {
          "cell_type": "code",
          "checksum": "0a54c60fbbab43a250f22bba8ae6f62d",
          "grade": false,
          "grade_id": "cell-818d91b73f034e1a",
          "locked": false,
          "schema_version": 3,
          "solution": true,
          "task": false
        },
        "colab": {
          "base_uri": "https://localhost:8080/"
        },
        "id": "pmevM1wOF5fz",
        "outputId": "8e6732af-18f4-4fc4-a4d8-a07fe25b0982"
      },
      "outputs": [
        {
          "output_type": "execute_result",
          "data": {
            "text/plain": [
              "0"
            ]
          },
          "metadata": {},
          "execution_count": 29
        }
      ],
      "source": [
        "ans1 = book_info_df['description'].isna().sum()\n",
        "ans1"
      ]
    },
    {
      "cell_type": "markdown",
      "metadata": {
        "id": "J0nyi68nF5fz"
      },
      "source": [
        "- Сколько раз в данных встречается налог, больший нуля?  Ответ на этот вопрос вбейте в тест, который идёт после лабораторной работы."
      ]
    },
    {
      "cell_type": "code",
      "execution_count": 38,
      "metadata": {
        "deletable": false,
        "nbgrader": {
          "cell_type": "code",
          "checksum": "881cb4d0c1333101e6756e8d38221100",
          "grade": false,
          "grade_id": "cell-be342205fa946a79",
          "locked": false,
          "schema_version": 3,
          "solution": true,
          "task": false
        },
        "colab": {
          "base_uri": "https://localhost:8080/"
        },
        "id": "qwVWIaXUF5fz",
        "outputId": "69dec493-5992-4b92-db1f-2d6a8a851301"
      },
      "outputs": [
        {
          "output_type": "execute_result",
          "data": {
            "text/plain": [
              "0"
            ]
          },
          "metadata": {},
          "execution_count": 38
        }
      ],
      "source": [
        "ans2 = book_info_df[book_info_df['tax'] > 0].shape[0]\n",
        "ans2"
      ]
    },
    {
      "cell_type": "markdown",
      "metadata": {
        "id": "CKCu8UMqF5f0"
      },
      "source": [
        "- Сколько раз рейтинг книги составлял пять звезд?  Ответ на этот вопрос вбейте в тест, который идёт после лабораторной работы."
      ]
    },
    {
      "cell_type": "code",
      "execution_count": 31,
      "metadata": {
        "deletable": false,
        "nbgrader": {
          "cell_type": "code",
          "checksum": "9bed9ee4d147130e84c82fddec2f3764",
          "grade": false,
          "grade_id": "cell-a904ff9c737f3bae",
          "locked": false,
          "schema_version": 3,
          "solution": true,
          "task": false
        },
        "colab": {
          "base_uri": "https://localhost:8080/"
        },
        "id": "RdaXzz46F5f0",
        "outputId": "c1b75bd1-a99b-41a6-ffec-72bcb7785a44"
      },
      "outputs": [
        {
          "output_type": "execute_result",
          "data": {
            "text/plain": [
              "40"
            ]
          },
          "metadata": {},
          "execution_count": 31
        }
      ],
      "source": [
        "ans3 = book_info_df[book_info_df['rating'] == 5].shape[0]\n",
        "ans3"
      ]
    },
    {
      "cell_type": "markdown",
      "metadata": {
        "id": "-EdwD3EOF5f0"
      },
      "source": [
        "- Какова средняя цена книг (без учета налога)?  Ответ на этот вопрос вбейте в тест, который идёт после лабораторной работы."
      ]
    },
    {
      "cell_type": "code",
      "execution_count": 40,
      "metadata": {
        "deletable": false,
        "nbgrader": {
          "cell_type": "code",
          "checksum": "2ba621a61f0c0e5e50a4c01253676973",
          "grade": false,
          "grade_id": "cell-60c854eb83c66df8",
          "locked": false,
          "schema_version": 3,
          "solution": true,
          "task": false
        },
        "colab": {
          "base_uri": "https://localhost:8080/"
        },
        "id": "Wtltk_jpF5f0",
        "outputId": "49784fbd-c191-432f-ecc6-566261e1b54a"
      },
      "outputs": [
        {
          "output_type": "execute_result",
          "data": {
            "text/plain": [
              "38.0485"
            ]
          },
          "metadata": {},
          "execution_count": 40
        }
      ],
      "source": [
        "ans4 = book_info_df['price'].mean()\n",
        "ans4"
      ]
    }
  ],
  "metadata": {
    "kernelspec": {
      "display_name": "Python 3",
      "language": "python",
      "name": "python3"
    },
    "language_info": {
      "codemirror_mode": {
        "name": "ipython",
        "version": 3
      },
      "file_extension": ".py",
      "mimetype": "text/x-python",
      "name": "python",
      "nbconvert_exporter": "python",
      "pygments_lexer": "ipython3",
      "version": "3.7.6"
    },
    "varInspector": {
      "cols": {
        "lenName": 16,
        "lenType": 16,
        "lenVar": 40
      },
      "kernels_config": {
        "python": {
          "delete_cmd_postfix": "",
          "delete_cmd_prefix": "del ",
          "library": "var_list.py",
          "varRefreshCmd": "print(var_dic_list())"
        },
        "r": {
          "delete_cmd_postfix": ") ",
          "delete_cmd_prefix": "rm(",
          "library": "var_list.r",
          "varRefreshCmd": "cat(var_dic_list()) "
        }
      },
      "types_to_exclude": [
        "module",
        "function",
        "builtin_function_or_method",
        "instance",
        "_Feature"
      ],
      "window_display": false
    },
    "colab": {
      "provenance": [],
      "include_colab_link": true
    },
    "widgets": {
      "application/vnd.jupyter.widget-state+json": {
        "cc74783c370e47969b1c3dc1c85e9ec1": {
          "model_module": "@jupyter-widgets/controls",
          "model_name": "HBoxModel",
          "model_module_version": "1.5.0",
          "state": {
            "_dom_classes": [],
            "_model_module": "@jupyter-widgets/controls",
            "_model_module_version": "1.5.0",
            "_model_name": "HBoxModel",
            "_view_count": null,
            "_view_module": "@jupyter-widgets/controls",
            "_view_module_version": "1.5.0",
            "_view_name": "HBoxView",
            "box_style": "",
            "children": [
              "IPY_MODEL_24f2ad9fae4f440c83ac0845cfb436fc",
              "IPY_MODEL_a5189cdfdd8e41c5a1c367f907dd9848",
              "IPY_MODEL_47641ae8c8dc4eeaa7d99452d06befda"
            ],
            "layout": "IPY_MODEL_d5b89dee3a204a18bfc51ec38d259514"
          }
        },
        "24f2ad9fae4f440c83ac0845cfb436fc": {
          "model_module": "@jupyter-widgets/controls",
          "model_name": "HTMLModel",
          "model_module_version": "1.5.0",
          "state": {
            "_dom_classes": [],
            "_model_module": "@jupyter-widgets/controls",
            "_model_module_version": "1.5.0",
            "_model_name": "HTMLModel",
            "_view_count": null,
            "_view_module": "@jupyter-widgets/controls",
            "_view_module_version": "1.5.0",
            "_view_name": "HTMLView",
            "description": "",
            "description_tooltip": null,
            "layout": "IPY_MODEL_fc429a58714647068628b68c95ab782a",
            "placeholder": "​",
            "style": "IPY_MODEL_1def6d64a707499cab89907982b74995",
            "value": "100%"
          }
        },
        "a5189cdfdd8e41c5a1c367f907dd9848": {
          "model_module": "@jupyter-widgets/controls",
          "model_name": "FloatProgressModel",
          "model_module_version": "1.5.0",
          "state": {
            "_dom_classes": [],
            "_model_module": "@jupyter-widgets/controls",
            "_model_module_version": "1.5.0",
            "_model_name": "FloatProgressModel",
            "_view_count": null,
            "_view_module": "@jupyter-widgets/controls",
            "_view_module_version": "1.5.0",
            "_view_name": "ProgressView",
            "bar_style": "success",
            "description": "",
            "description_tooltip": null,
            "layout": "IPY_MODEL_e0546e8c2ad84ca2a4a3cf8c4f1671e9",
            "max": 200,
            "min": 0,
            "orientation": "horizontal",
            "style": "IPY_MODEL_feb0f1d253fa465ebdf095dd610b16f8",
            "value": 200
          }
        },
        "47641ae8c8dc4eeaa7d99452d06befda": {
          "model_module": "@jupyter-widgets/controls",
          "model_name": "HTMLModel",
          "model_module_version": "1.5.0",
          "state": {
            "_dom_classes": [],
            "_model_module": "@jupyter-widgets/controls",
            "_model_module_version": "1.5.0",
            "_model_name": "HTMLModel",
            "_view_count": null,
            "_view_module": "@jupyter-widgets/controls",
            "_view_module_version": "1.5.0",
            "_view_name": "HTMLView",
            "description": "",
            "description_tooltip": null,
            "layout": "IPY_MODEL_d84709da92754e5eb3430f439483d618",
            "placeholder": "​",
            "style": "IPY_MODEL_b370c83cbcad4ccba42b87e02c83d07c",
            "value": " 200/200 [00:05&lt;00:00, 36.03it/s]"
          }
        },
        "d5b89dee3a204a18bfc51ec38d259514": {
          "model_module": "@jupyter-widgets/base",
          "model_name": "LayoutModel",
          "model_module_version": "1.2.0",
          "state": {
            "_model_module": "@jupyter-widgets/base",
            "_model_module_version": "1.2.0",
            "_model_name": "LayoutModel",
            "_view_count": null,
            "_view_module": "@jupyter-widgets/base",
            "_view_module_version": "1.2.0",
            "_view_name": "LayoutView",
            "align_content": null,
            "align_items": null,
            "align_self": null,
            "border": null,
            "bottom": null,
            "display": null,
            "flex": null,
            "flex_flow": null,
            "grid_area": null,
            "grid_auto_columns": null,
            "grid_auto_flow": null,
            "grid_auto_rows": null,
            "grid_column": null,
            "grid_gap": null,
            "grid_row": null,
            "grid_template_areas": null,
            "grid_template_columns": null,
            "grid_template_rows": null,
            "height": null,
            "justify_content": null,
            "justify_items": null,
            "left": null,
            "margin": null,
            "max_height": null,
            "max_width": null,
            "min_height": null,
            "min_width": null,
            "object_fit": null,
            "object_position": null,
            "order": null,
            "overflow": null,
            "overflow_x": null,
            "overflow_y": null,
            "padding": null,
            "right": null,
            "top": null,
            "visibility": null,
            "width": null
          }
        },
        "fc429a58714647068628b68c95ab782a": {
          "model_module": "@jupyter-widgets/base",
          "model_name": "LayoutModel",
          "model_module_version": "1.2.0",
          "state": {
            "_model_module": "@jupyter-widgets/base",
            "_model_module_version": "1.2.0",
            "_model_name": "LayoutModel",
            "_view_count": null,
            "_view_module": "@jupyter-widgets/base",
            "_view_module_version": "1.2.0",
            "_view_name": "LayoutView",
            "align_content": null,
            "align_items": null,
            "align_self": null,
            "border": null,
            "bottom": null,
            "display": null,
            "flex": null,
            "flex_flow": null,
            "grid_area": null,
            "grid_auto_columns": null,
            "grid_auto_flow": null,
            "grid_auto_rows": null,
            "grid_column": null,
            "grid_gap": null,
            "grid_row": null,
            "grid_template_areas": null,
            "grid_template_columns": null,
            "grid_template_rows": null,
            "height": null,
            "justify_content": null,
            "justify_items": null,
            "left": null,
            "margin": null,
            "max_height": null,
            "max_width": null,
            "min_height": null,
            "min_width": null,
            "object_fit": null,
            "object_position": null,
            "order": null,
            "overflow": null,
            "overflow_x": null,
            "overflow_y": null,
            "padding": null,
            "right": null,
            "top": null,
            "visibility": null,
            "width": null
          }
        },
        "1def6d64a707499cab89907982b74995": {
          "model_module": "@jupyter-widgets/controls",
          "model_name": "DescriptionStyleModel",
          "model_module_version": "1.5.0",
          "state": {
            "_model_module": "@jupyter-widgets/controls",
            "_model_module_version": "1.5.0",
            "_model_name": "DescriptionStyleModel",
            "_view_count": null,
            "_view_module": "@jupyter-widgets/base",
            "_view_module_version": "1.2.0",
            "_view_name": "StyleView",
            "description_width": ""
          }
        },
        "e0546e8c2ad84ca2a4a3cf8c4f1671e9": {
          "model_module": "@jupyter-widgets/base",
          "model_name": "LayoutModel",
          "model_module_version": "1.2.0",
          "state": {
            "_model_module": "@jupyter-widgets/base",
            "_model_module_version": "1.2.0",
            "_model_name": "LayoutModel",
            "_view_count": null,
            "_view_module": "@jupyter-widgets/base",
            "_view_module_version": "1.2.0",
            "_view_name": "LayoutView",
            "align_content": null,
            "align_items": null,
            "align_self": null,
            "border": null,
            "bottom": null,
            "display": null,
            "flex": null,
            "flex_flow": null,
            "grid_area": null,
            "grid_auto_columns": null,
            "grid_auto_flow": null,
            "grid_auto_rows": null,
            "grid_column": null,
            "grid_gap": null,
            "grid_row": null,
            "grid_template_areas": null,
            "grid_template_columns": null,
            "grid_template_rows": null,
            "height": null,
            "justify_content": null,
            "justify_items": null,
            "left": null,
            "margin": null,
            "max_height": null,
            "max_width": null,
            "min_height": null,
            "min_width": null,
            "object_fit": null,
            "object_position": null,
            "order": null,
            "overflow": null,
            "overflow_x": null,
            "overflow_y": null,
            "padding": null,
            "right": null,
            "top": null,
            "visibility": null,
            "width": null
          }
        },
        "feb0f1d253fa465ebdf095dd610b16f8": {
          "model_module": "@jupyter-widgets/controls",
          "model_name": "ProgressStyleModel",
          "model_module_version": "1.5.0",
          "state": {
            "_model_module": "@jupyter-widgets/controls",
            "_model_module_version": "1.5.0",
            "_model_name": "ProgressStyleModel",
            "_view_count": null,
            "_view_module": "@jupyter-widgets/base",
            "_view_module_version": "1.2.0",
            "_view_name": "StyleView",
            "bar_color": null,
            "description_width": ""
          }
        },
        "d84709da92754e5eb3430f439483d618": {
          "model_module": "@jupyter-widgets/base",
          "model_name": "LayoutModel",
          "model_module_version": "1.2.0",
          "state": {
            "_model_module": "@jupyter-widgets/base",
            "_model_module_version": "1.2.0",
            "_model_name": "LayoutModel",
            "_view_count": null,
            "_view_module": "@jupyter-widgets/base",
            "_view_module_version": "1.2.0",
            "_view_name": "LayoutView",
            "align_content": null,
            "align_items": null,
            "align_self": null,
            "border": null,
            "bottom": null,
            "display": null,
            "flex": null,
            "flex_flow": null,
            "grid_area": null,
            "grid_auto_columns": null,
            "grid_auto_flow": null,
            "grid_auto_rows": null,
            "grid_column": null,
            "grid_gap": null,
            "grid_row": null,
            "grid_template_areas": null,
            "grid_template_columns": null,
            "grid_template_rows": null,
            "height": null,
            "justify_content": null,
            "justify_items": null,
            "left": null,
            "margin": null,
            "max_height": null,
            "max_width": null,
            "min_height": null,
            "min_width": null,
            "object_fit": null,
            "object_position": null,
            "order": null,
            "overflow": null,
            "overflow_x": null,
            "overflow_y": null,
            "padding": null,
            "right": null,
            "top": null,
            "visibility": null,
            "width": null
          }
        },
        "b370c83cbcad4ccba42b87e02c83d07c": {
          "model_module": "@jupyter-widgets/controls",
          "model_name": "DescriptionStyleModel",
          "model_module_version": "1.5.0",
          "state": {
            "_model_module": "@jupyter-widgets/controls",
            "_model_module_version": "1.5.0",
            "_model_name": "DescriptionStyleModel",
            "_view_count": null,
            "_view_module": "@jupyter-widgets/base",
            "_view_module_version": "1.2.0",
            "_view_name": "StyleView",
            "description_width": ""
          }
        }
      }
    }
  },
  "nbformat": 4,
  "nbformat_minor": 0
}