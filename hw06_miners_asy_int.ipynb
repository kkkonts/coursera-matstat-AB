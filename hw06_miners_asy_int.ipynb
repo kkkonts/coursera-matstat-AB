{
  "cells": [
    {
      "cell_type": "markdown",
      "metadata": {
        "id": "view-in-github",
        "colab_type": "text"
      },
      "source": [
        "<a href=\"https://colab.research.google.com/github/kkkonts/coursera-matstat-AB/blob/main/hw06_miners_asy_int.ipynb\" target=\"_parent\"><img src=\"https://colab.research.google.com/assets/colab-badge.svg\" alt=\"Open In Colab\"/></a>"
      ]
    },
    {
      "cell_type": "markdown",
      "metadata": {
        "deletable": false,
        "editable": false,
        "nbgrader": {
          "cell_type": "markdown",
          "checksum": "264d537341f6a276df704ef226ded3ad",
          "grade": false,
          "grade_id": "cell-8caa20e8c937bd3c",
          "locked": true,
          "schema_version": 3,
          "solution": false,
          "task": false
        },
        "id": "CtwBsApHGWPa"
      },
      "source": [
        "\n",
        "#  Аварии на шахтах"
      ]
    },
    {
      "cell_type": "code",
      "execution_count": 39,
      "metadata": {
        "id": "NZwKvzudGWPc"
      },
      "outputs": [],
      "source": [
        "import numpy as np\n",
        "import math\n",
        "\n",
        "import scipy.stats as sts\n",
        "import matplotlib.pyplot as plt\n",
        "\n",
        "plt.style.use('seaborn-v0_8-pastel')\n",
        "%matplotlib inline"
      ]
    },
    {
      "cell_type": "markdown",
      "metadata": {
        "deletable": false,
        "editable": false,
        "nbgrader": {
          "cell_type": "markdown",
          "checksum": "80970bc9f21db2cc2cf85d64c918e72a",
          "grade": false,
          "grade_id": "cell-75d58b9b3f8d9f28",
          "locked": true,
          "schema_version": 3,
          "solution": false,
          "task": false
        },
        "id": "n3WBSj-2GWPd"
      },
      "source": [
        "На угольных шахтах ежегодно происходят аварии. Англия довольно давно собирает информацию о числе крупных аварий. Именно её нам предстоит проанализировать:\n",
        "\n",
        "* хочется понять как часто в среднем происходят аварии\n",
        "* насколько большой у среднего числа аварий доверительный интервал"
      ]
    },
    {
      "cell_type": "code",
      "execution_count": 4,
      "metadata": {
        "colab": {
          "base_uri": "https://localhost:8080/",
          "height": 204
        },
        "id": "n-NJaj9OGWPd",
        "outputId": "58b4973f-8374-459c-da83-e8582e596811"
      },
      "outputs": [
        {
          "output_type": "execute_result",
          "data": {
            "text/plain": [
              "   year  count\n",
              "1  1851      4\n",
              "2  1852      5\n",
              "3  1853      4\n",
              "4  1854      1\n",
              "5  1855      0"
            ],
            "text/html": [
              "\n",
              "  <div id=\"df-b9194847-7082-47ac-97d2-2c3d004d8ef1\" class=\"colab-df-container\">\n",
              "    <div>\n",
              "<style scoped>\n",
              "    .dataframe tbody tr th:only-of-type {\n",
              "        vertical-align: middle;\n",
              "    }\n",
              "\n",
              "    .dataframe tbody tr th {\n",
              "        vertical-align: top;\n",
              "    }\n",
              "\n",
              "    .dataframe thead th {\n",
              "        text-align: right;\n",
              "    }\n",
              "</style>\n",
              "<table border=\"1\" class=\"dataframe\">\n",
              "  <thead>\n",
              "    <tr style=\"text-align: right;\">\n",
              "      <th></th>\n",
              "      <th>year</th>\n",
              "      <th>count</th>\n",
              "    </tr>\n",
              "  </thead>\n",
              "  <tbody>\n",
              "    <tr>\n",
              "      <th>1</th>\n",
              "      <td>1851</td>\n",
              "      <td>4</td>\n",
              "    </tr>\n",
              "    <tr>\n",
              "      <th>2</th>\n",
              "      <td>1852</td>\n",
              "      <td>5</td>\n",
              "    </tr>\n",
              "    <tr>\n",
              "      <th>3</th>\n",
              "      <td>1853</td>\n",
              "      <td>4</td>\n",
              "    </tr>\n",
              "    <tr>\n",
              "      <th>4</th>\n",
              "      <td>1854</td>\n",
              "      <td>1</td>\n",
              "    </tr>\n",
              "    <tr>\n",
              "      <th>5</th>\n",
              "      <td>1855</td>\n",
              "      <td>0</td>\n",
              "    </tr>\n",
              "  </tbody>\n",
              "</table>\n",
              "</div>\n",
              "    <div class=\"colab-df-buttons\">\n",
              "\n",
              "  <div class=\"colab-df-container\">\n",
              "    <button class=\"colab-df-convert\" onclick=\"convertToInteractive('df-b9194847-7082-47ac-97d2-2c3d004d8ef1')\"\n",
              "            title=\"Convert this dataframe to an interactive table.\"\n",
              "            style=\"display:none;\">\n",
              "\n",
              "  <svg xmlns=\"http://www.w3.org/2000/svg\" height=\"24px\" viewBox=\"0 -960 960 960\">\n",
              "    <path d=\"M120-120v-720h720v720H120Zm60-500h600v-160H180v160Zm220 220h160v-160H400v160Zm0 220h160v-160H400v160ZM180-400h160v-160H180v160Zm440 0h160v-160H620v160ZM180-180h160v-160H180v160Zm440 0h160v-160H620v160Z\"/>\n",
              "  </svg>\n",
              "    </button>\n",
              "\n",
              "  <style>\n",
              "    .colab-df-container {\n",
              "      display:flex;\n",
              "      gap: 12px;\n",
              "    }\n",
              "\n",
              "    .colab-df-convert {\n",
              "      background-color: #E8F0FE;\n",
              "      border: none;\n",
              "      border-radius: 50%;\n",
              "      cursor: pointer;\n",
              "      display: none;\n",
              "      fill: #1967D2;\n",
              "      height: 32px;\n",
              "      padding: 0 0 0 0;\n",
              "      width: 32px;\n",
              "    }\n",
              "\n",
              "    .colab-df-convert:hover {\n",
              "      background-color: #E2EBFA;\n",
              "      box-shadow: 0px 1px 2px rgba(60, 64, 67, 0.3), 0px 1px 3px 1px rgba(60, 64, 67, 0.15);\n",
              "      fill: #174EA6;\n",
              "    }\n",
              "\n",
              "    .colab-df-buttons div {\n",
              "      margin-bottom: 4px;\n",
              "    }\n",
              "\n",
              "    [theme=dark] .colab-df-convert {\n",
              "      background-color: #3B4455;\n",
              "      fill: #D2E3FC;\n",
              "    }\n",
              "\n",
              "    [theme=dark] .colab-df-convert:hover {\n",
              "      background-color: #434B5C;\n",
              "      box-shadow: 0px 1px 3px 1px rgba(0, 0, 0, 0.15);\n",
              "      filter: drop-shadow(0px 1px 2px rgba(0, 0, 0, 0.3));\n",
              "      fill: #FFFFFF;\n",
              "    }\n",
              "  </style>\n",
              "\n",
              "    <script>\n",
              "      const buttonEl =\n",
              "        document.querySelector('#df-b9194847-7082-47ac-97d2-2c3d004d8ef1 button.colab-df-convert');\n",
              "      buttonEl.style.display =\n",
              "        google.colab.kernel.accessAllowed ? 'block' : 'none';\n",
              "\n",
              "      async function convertToInteractive(key) {\n",
              "        const element = document.querySelector('#df-b9194847-7082-47ac-97d2-2c3d004d8ef1');\n",
              "        const dataTable =\n",
              "          await google.colab.kernel.invokeFunction('convertToInteractive',\n",
              "                                                    [key], {});\n",
              "        if (!dataTable) return;\n",
              "\n",
              "        const docLinkHtml = 'Like what you see? Visit the ' +\n",
              "          '<a target=\"_blank\" href=https://colab.research.google.com/notebooks/data_table.ipynb>data table notebook</a>'\n",
              "          + ' to learn more about interactive tables.';\n",
              "        element.innerHTML = '';\n",
              "        dataTable['output_type'] = 'display_data';\n",
              "        await google.colab.output.renderOutput(dataTable, element);\n",
              "        const docLink = document.createElement('div');\n",
              "        docLink.innerHTML = docLinkHtml;\n",
              "        element.appendChild(docLink);\n",
              "      }\n",
              "    </script>\n",
              "  </div>\n",
              "\n",
              "\n",
              "<div id=\"df-1f93e11e-7f3e-47bf-be27-5f3e058a4c38\">\n",
              "  <button class=\"colab-df-quickchart\" onclick=\"quickchart('df-1f93e11e-7f3e-47bf-be27-5f3e058a4c38')\"\n",
              "            title=\"Suggest charts\"\n",
              "            style=\"display:none;\">\n",
              "\n",
              "<svg xmlns=\"http://www.w3.org/2000/svg\" height=\"24px\"viewBox=\"0 0 24 24\"\n",
              "     width=\"24px\">\n",
              "    <g>\n",
              "        <path d=\"M19 3H5c-1.1 0-2 .9-2 2v14c0 1.1.9 2 2 2h14c1.1 0 2-.9 2-2V5c0-1.1-.9-2-2-2zM9 17H7v-7h2v7zm4 0h-2V7h2v10zm4 0h-2v-4h2v4z\"/>\n",
              "    </g>\n",
              "</svg>\n",
              "  </button>\n",
              "\n",
              "<style>\n",
              "  .colab-df-quickchart {\n",
              "      --bg-color: #E8F0FE;\n",
              "      --fill-color: #1967D2;\n",
              "      --hover-bg-color: #E2EBFA;\n",
              "      --hover-fill-color: #174EA6;\n",
              "      --disabled-fill-color: #AAA;\n",
              "      --disabled-bg-color: #DDD;\n",
              "  }\n",
              "\n",
              "  [theme=dark] .colab-df-quickchart {\n",
              "      --bg-color: #3B4455;\n",
              "      --fill-color: #D2E3FC;\n",
              "      --hover-bg-color: #434B5C;\n",
              "      --hover-fill-color: #FFFFFF;\n",
              "      --disabled-bg-color: #3B4455;\n",
              "      --disabled-fill-color: #666;\n",
              "  }\n",
              "\n",
              "  .colab-df-quickchart {\n",
              "    background-color: var(--bg-color);\n",
              "    border: none;\n",
              "    border-radius: 50%;\n",
              "    cursor: pointer;\n",
              "    display: none;\n",
              "    fill: var(--fill-color);\n",
              "    height: 32px;\n",
              "    padding: 0;\n",
              "    width: 32px;\n",
              "  }\n",
              "\n",
              "  .colab-df-quickchart:hover {\n",
              "    background-color: var(--hover-bg-color);\n",
              "    box-shadow: 0 1px 2px rgba(60, 64, 67, 0.3), 0 1px 3px 1px rgba(60, 64, 67, 0.15);\n",
              "    fill: var(--button-hover-fill-color);\n",
              "  }\n",
              "\n",
              "  .colab-df-quickchart-complete:disabled,\n",
              "  .colab-df-quickchart-complete:disabled:hover {\n",
              "    background-color: var(--disabled-bg-color);\n",
              "    fill: var(--disabled-fill-color);\n",
              "    box-shadow: none;\n",
              "  }\n",
              "\n",
              "  .colab-df-spinner {\n",
              "    border: 2px solid var(--fill-color);\n",
              "    border-color: transparent;\n",
              "    border-bottom-color: var(--fill-color);\n",
              "    animation:\n",
              "      spin 1s steps(1) infinite;\n",
              "  }\n",
              "\n",
              "  @keyframes spin {\n",
              "    0% {\n",
              "      border-color: transparent;\n",
              "      border-bottom-color: var(--fill-color);\n",
              "      border-left-color: var(--fill-color);\n",
              "    }\n",
              "    20% {\n",
              "      border-color: transparent;\n",
              "      border-left-color: var(--fill-color);\n",
              "      border-top-color: var(--fill-color);\n",
              "    }\n",
              "    30% {\n",
              "      border-color: transparent;\n",
              "      border-left-color: var(--fill-color);\n",
              "      border-top-color: var(--fill-color);\n",
              "      border-right-color: var(--fill-color);\n",
              "    }\n",
              "    40% {\n",
              "      border-color: transparent;\n",
              "      border-right-color: var(--fill-color);\n",
              "      border-top-color: var(--fill-color);\n",
              "    }\n",
              "    60% {\n",
              "      border-color: transparent;\n",
              "      border-right-color: var(--fill-color);\n",
              "    }\n",
              "    80% {\n",
              "      border-color: transparent;\n",
              "      border-right-color: var(--fill-color);\n",
              "      border-bottom-color: var(--fill-color);\n",
              "    }\n",
              "    90% {\n",
              "      border-color: transparent;\n",
              "      border-bottom-color: var(--fill-color);\n",
              "    }\n",
              "  }\n",
              "</style>\n",
              "\n",
              "  <script>\n",
              "    async function quickchart(key) {\n",
              "      const quickchartButtonEl =\n",
              "        document.querySelector('#' + key + ' button');\n",
              "      quickchartButtonEl.disabled = true;  // To prevent multiple clicks.\n",
              "      quickchartButtonEl.classList.add('colab-df-spinner');\n",
              "      try {\n",
              "        const charts = await google.colab.kernel.invokeFunction(\n",
              "            'suggestCharts', [key], {});\n",
              "      } catch (error) {\n",
              "        console.error('Error during call to suggestCharts:', error);\n",
              "      }\n",
              "      quickchartButtonEl.classList.remove('colab-df-spinner');\n",
              "      quickchartButtonEl.classList.add('colab-df-quickchart-complete');\n",
              "    }\n",
              "    (() => {\n",
              "      let quickchartButtonEl =\n",
              "        document.querySelector('#df-1f93e11e-7f3e-47bf-be27-5f3e058a4c38 button');\n",
              "      quickchartButtonEl.style.display =\n",
              "        google.colab.kernel.accessAllowed ? 'block' : 'none';\n",
              "    })();\n",
              "  </script>\n",
              "</div>\n",
              "    </div>\n",
              "  </div>\n"
            ]
          },
          "metadata": {},
          "execution_count": 4
        }
      ],
      "source": [
        "import pandas as pd\n",
        "\n",
        "df = pd.read_csv(\"coals.csv\", index_col=0)\n",
        "df.head()"
      ]
    },
    {
      "cell_type": "markdown",
      "metadata": {
        "deletable": false,
        "editable": false,
        "nbgrader": {
          "cell_type": "markdown",
          "checksum": "250e18d302d16fb1e7626720133789aa",
          "grade": false,
          "grade_id": "cell-71d1eaf34ae3f8a6",
          "locked": true,
          "schema_version": 3,
          "solution": false,
          "task": false
        },
        "id": "OJDgSldkGWPd"
      },
      "source": [
        "В колонке `year` находится год наблюдений. В колонке `count` число аварий за этот год на шахтах в Англии. Посмотрим на распределение числа аварий."
      ]
    },
    {
      "cell_type": "code",
      "execution_count": 5,
      "metadata": {
        "colab": {
          "base_uri": "https://localhost:8080/",
          "height": 430
        },
        "id": "iZd4fcsJGWPe",
        "outputId": "b6aba47a-a8eb-4b45-c33e-4df4b7f228a0"
      },
      "outputs": [
        {
          "output_type": "display_data",
          "data": {
            "text/plain": [
              "<Figure size 640x480 with 1 Axes>"
            ],
            "image/png": "[encoded data removed]"
          },
          "metadata": {}
        }
      ],
      "source": [
        "df['count'].hist(bins=30);"
      ]
    },
    {
      "cell_type": "markdown",
      "metadata": {
        "deletable": false,
        "editable": false,
        "nbgrader": {
          "cell_type": "markdown",
          "checksum": "93cd51081378129d848714a7563024ff",
          "grade": false,
          "grade_id": "cell-8f81fc0ac935f974",
          "locked": true,
          "schema_version": 3,
          "solution": false,
          "task": false
        },
        "id": "FaIPj-UWGWPe"
      },
      "source": [
        "Судя по гистограмме уместно предположить, что число аварий имеет распределение Пуассона, $Poiss(\\lambda)$.  То есть, если мы хотим что-то понять про среднее число аварий, нам надо оценить параметр $\\lambda$.\n",
        "\n",
        "__а) Метод моментов__\n",
        "\n",
        "Найдите оценку параметра $\\lambda$ с помощью метода моментов. Запишите получившийся результат в переменную `lambda_hat`."
      ]
    },
    {
      "cell_type": "code",
      "execution_count": 6,
      "metadata": {
        "deletable": false,
        "nbgrader": {
          "cell_type": "code",
          "checksum": "6049e41ea6548d69159f2393c9925ae4",
          "grade": false,
          "grade_id": "cell-a4673b56f9be221f",
          "locked": false,
          "schema_version": 3,
          "solution": true,
          "task": false
        },
        "colab": {
          "base_uri": "https://localhost:8080/"
        },
        "id": "x2u1mfdKGWPe",
        "outputId": "cd820e51-0a5f-450b-a651-606af602aec0"
      },
      "outputs": [
        {
          "output_type": "execute_result",
          "data": {
            "text/plain": [
              "1.7053571428571428"
            ]
          },
          "metadata": {},
          "execution_count": 6
        }
      ],
      "source": [
        "n_hat = df.shape[0]   # число наблюдений\n",
        "lam_hat = df['count'].mean()      # ваша оценка метода моментов\n",
        "lam_hat"
      ]
    },
    {
      "cell_type": "code",
      "execution_count": 7,
      "metadata": {
        "deletable": false,
        "editable": false,
        "nbgrader": {
          "cell_type": "code",
          "checksum": "117fde3908c70c607bca06c6891a2166",
          "grade": true,
          "grade_id": "cell-3f10ac75755a9483",
          "locked": true,
          "points": 1,
          "schema_version": 3,
          "solution": false,
          "task": false
        },
        "id": "45xqKp8rGWPf"
      },
      "outputs": [],
      "source": [
        "# проверка, что оценка была найдена корректно\n",
        "# похожие тесты, но для lam_hat скрыты от вас\n",
        "# они запустятся после того как вы сдадите тетрадку на проверку в грейдер\n",
        "\n",
        "assert n_hat == 112\n"
      ]
    },
    {
      "cell_type": "markdown",
      "metadata": {
        "deletable": false,
        "editable": false,
        "nbgrader": {
          "cell_type": "markdown",
          "checksum": "5373ea0323b4f1e9ec5f7aec07405ae4",
          "grade": false,
          "grade_id": "cell-8f0e34a726943feb",
          "locked": true,
          "schema_version": 3,
          "solution": false,
          "task": false
        },
        "id": "dN9gyUxEGWPf"
      },
      "source": [
        "__б) Стандартное отклонение__\n",
        "\n",
        "Среднее, оценённое методом моментов будет иметь асимптотически нормальное распределение. Оцените стандартное отклонение этого распределения по выборке и запишите ответ в переменную `lam_se`.\n",
        "\n",
        "> __Примечание:__ мы предполагаем, что выборка пришла из распределения Пуассона. Для него $Var(X) = \\lambda$. Для оценки стандартного отклонения используйте этот факт. Конечно же вы можете оценить его через функцию `std`, в плане асимптотики результат получится одинаковый. Оба способа корректны. Но с точки зрения грейдера, у вас будет ошибка."
      ]
    },
    {
      "cell_type": "code",
      "execution_count": 54,
      "metadata": {
        "deletable": false,
        "nbgrader": {
          "cell_type": "code",
          "checksum": "54decfbbc0de5710e1aa0a16b72e5d9b",
          "grade": false,
          "grade_id": "cell-d89f8ff08d240616",
          "locked": false,
          "schema_version": 3,
          "solution": true,
          "task": false
        },
        "colab": {
          "base_uri": "https://localhost:8080/"
        },
        "id": "1jHzvGkgGWPf",
        "outputId": "63edb084-77bf-4d6e-f6dc-3e961b0a3a28"
      },
      "outputs": [
        {
          "output_type": "execute_result",
          "data": {
            "text/plain": [
              "1.6401131976239944"
            ]
          },
          "metadata": {},
          "execution_count": 54
        }
      ],
      "source": [
        "lam_se =  np.sqrt(sum((df['count'] - lam_hat)**2)/(n_hat))\n",
        "\n",
        "lam_se"
      ]
    },
    {
      "cell_type": "code",
      "execution_count": 28,
      "metadata": {
        "deletable": false,
        "editable": false,
        "nbgrader": {
          "cell_type": "code",
          "checksum": "a5ee075cc38d98f6c39e043cd4c05421",
          "grade": true,
          "grade_id": "cell-69d840309379a00d",
          "locked": true,
          "points": 1,
          "schema_version": 3,
          "solution": false,
          "task": false
        },
        "id": "UEjvNf9mGWPf"
      },
      "outputs": [],
      "source": [
        "# проверка, что оценка была найдена корректно\n",
        "assert lam_se < 1.6474\n",
        "\n",
        "# несколько похожих тестов скрыты от вас\n"
      ]
    },
    {
      "cell_type": "markdown",
      "metadata": {
        "deletable": false,
        "editable": false,
        "nbgrader": {
          "cell_type": "markdown",
          "checksum": "7dfcd40b0f6db2961f79ad6d0e1ff5ff",
          "grade": false,
          "grade_id": "cell-5f789ce2b6509de9",
          "locked": true,
          "schema_version": 3,
          "solution": false,
          "task": false
        },
        "id": "2vta95AcGWPg"
      },
      "source": [
        "__в) Доверительный интервал__\n",
        "\n",
        "Постройте для неизвестного математического ожидания $\\lambda$ доверительный интервал. Возьмите уровень значимости равный $10\\%$. В переменные `left` и `right` запишите соотвествующие границы интервала. В переменную `delta` запишите его ширину."
      ]
    },
    {
      "cell_type": "code",
      "execution_count": 34,
      "metadata": {
        "deletable": false,
        "nbgrader": {
          "cell_type": "code",
          "checksum": "a77ddc886a5ae31e07ce44aaa10eb3f1",
          "grade": false,
          "grade_id": "cell-729da6fec593102e",
          "locked": false,
          "schema_version": 3,
          "solution": true,
          "task": false
        },
        "id": "8XrdqoxZGWPg"
      },
      "outputs": [],
      "source": [
        "alpha = 0.1\n",
        "\n",
        "left = lam_hat + np.sqrt(lam_hat / n_hat) * sts.norm.ppf(alpha/2, 0, 1)\n",
        "right = lam_hat + sts.norm.ppf(1 - alpha/2, 0, 1)\n",
        "delta = right - left\n",
        "\n",
        "# your code here\n"
      ]
    },
    {
      "cell_type": "code",
      "execution_count": 35,
      "metadata": {
        "deletable": false,
        "editable": false,
        "nbgrader": {
          "cell_type": "code",
          "checksum": "3ed7ae976f53cb8a49b16d38aaa90d82",
          "grade": true,
          "grade_id": "cell-681b7ef69959cc8f",
          "locked": true,
          "points": 1,
          "schema_version": 3,
          "solution": false,
          "task": false
        },
        "id": "CkmRAoWxGWPg"
      },
      "outputs": [],
      "source": [
        "# проверка, что границы доверительного интервала найдены верно\n",
        "assert np.abs(left - 1.502389916114217) < 1e-5\n",
        "\n",
        "# несколько похожих тестов скрыты от вас\n"
      ]
    },
    {
      "cell_type": "markdown",
      "metadata": {
        "deletable": false,
        "editable": false,
        "nbgrader": {
          "cell_type": "markdown",
          "checksum": "4d631c3f9d5ebeb5d67e62d85a83ed08",
          "grade": false,
          "grade_id": "cell-bf0ff017e366f60d",
          "locked": true,
          "schema_version": 3,
          "solution": false,
          "task": false
        },
        "id": "4eiD0XvIGWPg"
      },
      "source": [
        "__г) Число катастроф__  \n",
        "\n",
        "Многие говорят, что в $20$ веке катастроф стало на порядок меньше. Давайте проверим это. Постройте оценку для $\\lambda_1$ по данным до $1900$ года включительно. Постройте оценку для $\\lambda_2$ по данным после $1900$ года. Для разности $\\lambda_1 - \\lambda_2$ постройте $95\\%$ доверительный интервал."
      ]
    },
    {
      "cell_type": "code",
      "execution_count": 37,
      "metadata": {
        "deletable": false,
        "nbgrader": {
          "cell_type": "code",
          "checksum": "acbbeb4a6bf1695cf002916cf371973b",
          "grade": false,
          "grade_id": "cell-a52534c295035fea",
          "locked": false,
          "schema_version": 3,
          "solution": true,
          "task": false
        },
        "id": "sXnVAMsUGWPh",
        "colab": {
          "base_uri": "https://localhost:8080/"
        },
        "outputId": "bdbed1d2-73f9-41b4-b44e-d6d112353d9d"
      },
      "outputs": [
        {
          "output_type": "execute_result",
          "data": {
            "text/plain": [
              "1.283547385971639"
            ]
          },
          "metadata": {},
          "execution_count": 37
        }
      ],
      "source": [
        "x = df[df.year <= 1900]['count']\n",
        "y = df[df.year > 1900]['count']\n",
        "\n",
        "alpha = 0.05\n",
        "\n",
        "lam = x.mean() - y.mean()\n",
        "\n",
        "\n",
        "left = lam + np.sqrt(x.mean() / x.shape[0] + y.mean() / y.shape[0]) * sts.norm.ppf(alpha/2, 0, 1)\n",
        "right = lam + np.sqrt(x.mean() / x.shape[0] + y.mean() / y.shape[0]) * sts.norm.ppf(1 - alpha/2, 0, 1)\n",
        "delta = right - left\n",
        "\n",
        "# your code here\n",
        "left"
      ]
    },
    {
      "cell_type": "code",
      "execution_count": 38,
      "metadata": {
        "deletable": false,
        "editable": false,
        "nbgrader": {
          "cell_type": "code",
          "checksum": "3be2e28094cf1c1ed7a9945547c78424",
          "grade": true,
          "grade_id": "cell-40e69d1d970e89ea",
          "locked": true,
          "points": 2,
          "schema_version": 3,
          "solution": false,
          "task": false
        },
        "id": "xuFmucOXGWPh"
      },
      "outputs": [],
      "source": [
        "# проверка, что границы доверительного интервала найдены верно\n",
        "assert x.size == 50\n",
        "assert np.abs(left - 1.2835473859716393) < 1e-5\n",
        "\n",
        "# несколько похожих тестов скрыты от вас\n"
      ]
    },
    {
      "cell_type": "markdown",
      "metadata": {
        "deletable": false,
        "editable": false,
        "nbgrader": {
          "cell_type": "markdown",
          "checksum": "283692227b153b139be90a29fc9d61d5",
          "grade": false,
          "grade_id": "cell-856039d3919cfd24",
          "locked": true,
          "schema_version": 3,
          "solution": false,
          "task": false
        },
        "id": "oLRkecwkGWPh"
      },
      "source": [
        "Ноль не вошёл в этот доверительный интервал. Это означает, что на уровне значимости $5\\%$ мы можем сказать, что число аварий правда снизилось."
      ]
    },
    {
      "cell_type": "markdown",
      "metadata": {
        "id": "pI3cXi0iGWPh"
      },
      "source": [
        "__д) Вероятность для распределения Пуассона__\n",
        "\n",
        "Вспомните формулу, по которой считается вероятность того, что Пуассоновская случайная величина примет какое-то значение. Найдите точечную оценку вероятности того, что произойдёт только одна авария. В качестве $\\lambda$ используйте оценку метода моментов, полученную в первом задании."
      ]
    },
    {
      "cell_type": "code",
      "execution_count": 44,
      "metadata": {
        "deletable": false,
        "nbgrader": {
          "cell_type": "code",
          "checksum": "677de3c04a3c8f7acc00e08729a9999a",
          "grade": false,
          "grade_id": "cell-1383c35748bfed27",
          "locked": false,
          "schema_version": 3,
          "solution": true,
          "task": false
        },
        "id": "RvJssSUqGWPh",
        "colab": {
          "base_uri": "https://localhost:8080/"
        },
        "outputId": "56ac1db9-be0e-4fd6-c220-46cddb287efa"
      },
      "outputs": [
        {
          "output_type": "execute_result",
          "data": {
            "text/plain": [
              "0.3098761473208731"
            ]
          },
          "metadata": {},
          "execution_count": 44
        }
      ],
      "source": [
        "def poiss_prob(k):\n",
        "    return lam_hat**k * np.exp(-lam_hat) / math.factorial(k)\n",
        "# your code here\n",
        "poiss_prob(1)"
      ]
    },
    {
      "cell_type": "code",
      "execution_count": 45,
      "metadata": {
        "deletable": false,
        "editable": false,
        "nbgrader": {
          "cell_type": "code",
          "checksum": "ffdc0ad39329220bb912820095666af1",
          "grade": true,
          "grade_id": "cell-301364eca6748674",
          "locked": true,
          "points": 1,
          "schema_version": 3,
          "solution": false,
          "task": false
        },
        "id": "hVy5VetEGWPh"
      },
      "outputs": [],
      "source": [
        "# проверка,функции\n",
        "assert np.abs(poiss_prob(1) - 0.3098761) < 1e-5\n",
        "\n",
        "# похожие тесты скрыты от вас\n"
      ]
    },
    {
      "cell_type": "markdown",
      "metadata": {
        "deletable": false,
        "editable": false,
        "nbgrader": {
          "cell_type": "markdown",
          "checksum": "7f2badfbccaaf93be8606789c37481f9",
          "grade": false,
          "grade_id": "cell-0e3a31dfc730da6f",
          "locked": true,
          "schema_version": 3,
          "solution": false,
          "task": false
        },
        "id": "kVRi_zA3GWPh"
      },
      "source": [
        "__е) Дельта-метод__\n",
        "\n",
        "Та вероятность, которую мы нашли в предыдущем пункте - это лишь точечная оценка. Она является функцией от среднего. С помощью дельта-метода постройте для этой вероятности $95\\%$ довертельный интервал."
      ]
    },
    {
      "cell_type": "code",
      "source": [
        "def poiss_prob(k):\n",
        "    return lam_hat**k * np.exp(-lam_hat) / math.factorial(k)\n",
        "def poiss_prob_der(k):\n",
        "    return np.exp(-lam_hat) * (lam_hat**(k-1) / math.factorial(k - 1) - lam_hat**k / math.factorial(k))"
      ],
      "metadata": {
        "id": "GOaAXDZIPOfp"
      },
      "execution_count": 46,
      "outputs": []
    },
    {
      "cell_type": "code",
      "execution_count": 86,
      "metadata": {
        "deletable": false,
        "nbgrader": {
          "cell_type": "code",
          "checksum": "25bd6905ed924461b79cea1e154754a2",
          "grade": false,
          "grade_id": "cell-cd0a438c7adffcdb",
          "locked": false,
          "schema_version": 3,
          "solution": true,
          "task": false
        },
        "id": "cg0ycifFGWPh",
        "colab": {
          "base_uri": "https://localhost:8080/"
        },
        "outputId": "5a6e073c-5fbb-451b-e519-fe02dc0cde9d"
      },
      "outputs": [
        {
          "output_type": "execute_result",
          "data": {
            "text/plain": [
              "0.27077024629916013"
            ]
          },
          "metadata": {},
          "execution_count": 86
        }
      ],
      "source": [
        "alpha = 0.05\n",
        "n = n_hat\n",
        "\n",
        "left = poiss_prob(1) + sts.norm.ppf(alpha/2, 0, 1)* np.sqrt(df['count'].std()**2 * (poiss_prob_der(1))**2/n)\n",
        "# right = ...\n",
        "# delta = ...\n",
        "\n",
        "left\n",
        "# poiss_prob(1) + poiss_prob_der(1) * lam_se * sts.norm.ppf(alpha/2, 0, 1)"
      ]
    },
    {
      "cell_type": "code",
      "execution_count": 58,
      "metadata": {
        "deletable": false,
        "editable": false,
        "nbgrader": {
          "cell_type": "code",
          "checksum": "f8e5cd561d1d807ff0ffc046bcf72db4",
          "grade": true,
          "grade_id": "cell-94c00ca69c5dadef",
          "locked": true,
          "points": 4,
          "schema_version": 3,
          "solution": false,
          "task": false
        },
        "id": "SFQ72-JIGWPi",
        "colab": {
          "base_uri": "https://localhost:8080/",
          "height": 225
        },
        "outputId": "2677711f-1a79-4966-cf14-b66f6944a720"
      },
      "outputs": [
        {
          "output_type": "error",
          "ename": "AssertionError",
          "evalue": "",
          "traceback": [
            "\u001b[0;31m---------------------------------------------------------------------------\u001b[0m",
            "\u001b[0;31mAssertionError\u001b[0m                            Traceback (most recent call last)",
            "\u001b[0;32m<ipython-input-58-eb83eb1a58d5>\u001b[0m in \u001b[0;36m<cell line: 2>\u001b[0;34m()\u001b[0m\n\u001b[1;32m      1\u001b[0m \u001b[0;31m# проверка, что интервал построен корректно\u001b[0m\u001b[0;34m\u001b[0m\u001b[0;34m\u001b[0m\u001b[0m\n\u001b[0;32m----> 2\u001b[0;31m \u001b[0;32massert\u001b[0m \u001b[0mnp\u001b[0m\u001b[0;34m.\u001b[0m\u001b[0mabs\u001b[0m\u001b[0;34m(\u001b[0m\u001b[0mleft\u001b[0m \u001b[0;34m-\u001b[0m \u001b[0;36m0.279\u001b[0m\u001b[0;34m)\u001b[0m \u001b[0;34m<\u001b[0m \u001b[0;36m1e-3\u001b[0m\u001b[0;34m\u001b[0m\u001b[0;34m\u001b[0m\u001b[0m\n\u001b[0m\u001b[1;32m      3\u001b[0m \u001b[0;34m\u001b[0m\u001b[0m\n\u001b[1;32m      4\u001b[0m \u001b[0;31m# похожие тесты скрыты от вас\u001b[0m\u001b[0;34m\u001b[0m\u001b[0;34m\u001b[0m\u001b[0m\n",
            "\u001b[0;31mAssertionError\u001b[0m: "
          ]
        }
      ],
      "source": [
        "# проверка, что интервал построен корректно\n",
        "assert np.abs(left - 0.279) < 1e-3\n",
        "\n",
        "# похожие тесты скрыты от вас\n"
      ]
    },
    {
      "cell_type": "markdown",
      "metadata": {
        "deletable": false,
        "editable": false,
        "nbgrader": {
          "cell_type": "markdown",
          "checksum": "10a701f826377d3ac37362b3ab3f9b92",
          "grade": false,
          "grade_id": "cell-f0b4e99983c91ca4",
          "locked": true,
          "schema_version": 3,
          "solution": false,
          "task": false
        },
        "id": "Iz4xl2ZQGWPi"
      },
      "source": [
        "По аналогии можно построить доверительные интервалы для вероятности того, что случайная величина примет значения от нуля до девяти. Проделайте это в качестве необязательного упражнения и оформите процедуру расчёта в виде функции."
      ]
    },
    {
      "cell_type": "code",
      "execution_count": 73,
      "metadata": {
        "deletable": false,
        "nbgrader": {
          "cell_type": "code",
          "checksum": "c069ad8ca5fbcff71b79428535a2b4ba",
          "grade": false,
          "grade_id": "cell-957ca214e0fc17cb",
          "locked": false,
          "schema_version": 3,
          "solution": true,
          "task": false
        },
        "id": "nSCmbkNzGWPi",
        "colab": {
          "base_uri": "https://localhost:8080/"
        },
        "outputId": "7fb7892c-35f3-46ea-a10c-72b6ab448955"
      },
      "outputs": [
        {
          "output_type": "execute_result",
          "data": {
            "text/plain": [
              "0.2789757828183098"
            ]
          },
          "metadata": {},
          "execution_count": 73
        }
      ],
      "source": [
        "def poiss_prob(k):\n",
        "    return lam_hat**k * np.exp(-lam_hat) / math.factorial(k)\n",
        "def poiss_prob_der(k):\n",
        "    if k == 0:\n",
        "        return np.exp(-lam_hat)\n",
        "    return np.exp(-lam_hat) * (lam_hat**(k-1) / math.factorial(k - 1) - lam_hat**k / math.factorial(k))\n",
        "\n",
        "def prob_ci(k, alpha = 0.01, lam_hat=lam_hat):\n",
        "    return (sts.norm.ppf(alpha/2, poiss_prob(k), lam_se * (poiss_prob_der(k)**2)),\n",
        "            sts.norm.ppf(1 - alpha/2, poiss_prob(k), lam_se * (poiss_prob_der(k)**2)))\n",
        "# your code here\n",
        "left, right = prob_ci(0)\n",
        "delta = right - left\n",
        "delta"
      ]
    },
    {
      "cell_type": "code",
      "execution_count": 65,
      "metadata": {
        "id": "HVDAsxXpGWPi",
        "colab": {
          "base_uri": "https://localhost:8080/",
          "height": 242
        },
        "outputId": "ce231a8c-ce05-476c-f5fe-5f203b016eb3"
      },
      "outputs": [
        {
          "output_type": "error",
          "ename": "AssertionError",
          "evalue": "",
          "traceback": [
            "\u001b[0;31m---------------------------------------------------------------------------\u001b[0m",
            "\u001b[0;31mAssertionError\u001b[0m                            Traceback (most recent call last)",
            "\u001b[0;32m<ipython-input-65-3d2dc6b99c95>\u001b[0m in \u001b[0;36m<cell line: 4>\u001b[0;34m()\u001b[0m\n\u001b[1;32m      2\u001b[0m \u001b[0mdelta\u001b[0m \u001b[0;34m=\u001b[0m \u001b[0mright\u001b[0m \u001b[0;34m-\u001b[0m \u001b[0mleft\u001b[0m\u001b[0;34m\u001b[0m\u001b[0;34m\u001b[0m\u001b[0m\n\u001b[1;32m      3\u001b[0m \u001b[0;34m\u001b[0m\u001b[0m\n\u001b[0;32m----> 4\u001b[0;31m \u001b[0;32massert\u001b[0m \u001b[0mnp\u001b[0m\u001b[0;34m.\u001b[0m\u001b[0mabs\u001b[0m\u001b[0;34m(\u001b[0m\u001b[0mdelta\u001b[0m \u001b[0;34m-\u001b[0m \u001b[0;36m0.08147\u001b[0m\u001b[0;34m)\u001b[0m \u001b[0;34m<\u001b[0m \u001b[0;36m1e-5\u001b[0m\u001b[0;34m\u001b[0m\u001b[0;34m\u001b[0m\u001b[0m\n\u001b[0m\u001b[1;32m      5\u001b[0m \u001b[0;34m\u001b[0m\u001b[0m\n\u001b[1;32m      6\u001b[0m \u001b[0mleft\u001b[0m\u001b[0;34m,\u001b[0m \u001b[0mright\u001b[0m \u001b[0;34m=\u001b[0m \u001b[0mprob_ci\u001b[0m\u001b[0;34m(\u001b[0m\u001b[0;36m0\u001b[0m\u001b[0;34m)\u001b[0m\u001b[0;34m\u001b[0m\u001b[0;34m\u001b[0m\u001b[0m\n",
            "\u001b[0;31mAssertionError\u001b[0m: "
          ]
        }
      ],
      "source": [
        "left, right = prob_ci(1)\n",
        "delta = right - left\n",
        "\n",
        "assert np.abs(delta - 0.08147) < 1e-5\n",
        "\n",
        "left, right = prob_ci(0)\n",
        "delta = right - left\n",
        "\n",
        "assert np.abs(delta - 0.11551) < 1e-5"
      ]
    },
    {
      "cell_type": "markdown",
      "metadata": {
        "id": "z9B4txkVGWPi"
      },
      "source": [
        "Сделали функцию? Запускайте код для не очень информативной картинки!"
      ]
    },
    {
      "cell_type": "code",
      "execution_count": null,
      "metadata": {
        "id": "UYq0lD1YGWPi"
      },
      "outputs": [],
      "source": [
        "poiss_rv = sts.poisson(lam_hat)\n",
        "\n",
        "x = np.arange(10)\n",
        "\n",
        "p = poiss_rv.pmf(x)\n",
        "left, right = prob_ci(x)\n",
        "\n",
        "plt.figure(figsize=(10,5))\n",
        "plt.plot(x, p, 'bo', ms=6, label='poisson pmf')\n",
        "plt.fill_between(x, left, right, alpha=0.5)\n",
        "plt.vlines(x, 0, p, lw=1)\n",
        "plt.legend(loc='best', frameon=False)\n",
        "plt.show()"
      ]
    },
    {
      "cell_type": "code",
      "execution_count": null,
      "metadata": {
        "id": "5XN87oA6GWPi"
      },
      "outputs": [],
      "source": [
        "for k,(i,j) in enumerate(zip(left, right)):\n",
        "    print(f\"Вероятность P(X={k}) лежит между  {i:.5} и {j:.5}\")"
      ]
    },
    {
      "cell_type": "markdown",
      "metadata": {
        "deletable": false,
        "editable": false,
        "nbgrader": {
          "cell_type": "markdown",
          "checksum": "8f6311fca1d92124280fe941a5617cdf",
          "grade": false,
          "grade_id": "cell-77d5ebfab1514cda",
          "locked": true,
          "schema_version": 3,
          "solution": false,
          "task": false
        },
        "id": "TfNSCQqwGWPi"
      },
      "source": [
        "Интервалы получился довольно короткими. Попробуйте поиграться с уровнем значимости и посмотреть как они меняются в зависимости от него."
      ]
    },
    {
      "cell_type": "markdown",
      "metadata": {
        "deletable": false,
        "editable": false,
        "nbgrader": {
          "cell_type": "markdown",
          "checksum": "b207b13b56e3339a7ba971a435ce5390",
          "grade": false,
          "grade_id": "cell-b3dd31a15c05e245",
          "locked": true,
          "schema_version": 3,
          "solution": false,
          "task": false
        },
        "id": "JYa5F7PAGWPi"
      },
      "source": [
        "В этой терадке нам осталось обсудить последний нюанс. Мы из теории вероятностей знаем, что для случайной величины $X$, имеющей распределение Пуассона $\\mathbb{E}(X) = Var(X) = \\lambda$. Для текущей выборки мы видим, что между дисперсией и средним есть небольшое отличие."
      ]
    },
    {
      "cell_type": "code",
      "execution_count": 68,
      "metadata": {
        "id": "RpKj5t-0GWPi",
        "colab": {
          "base_uri": "https://localhost:8080/"
        },
        "outputId": "fe94f949-5791-4f49-a432-9739eb4823a2"
      },
      "outputs": [
        {
          "output_type": "execute_result",
          "data": {
            "text/plain": [
              "1.7053571428571428"
            ]
          },
          "metadata": {},
          "execution_count": 68
        }
      ],
      "source": [
        "df['count'].mean()"
      ]
    },
    {
      "cell_type": "code",
      "execution_count": 69,
      "metadata": {
        "id": "CgzVw_-0GWPj",
        "colab": {
          "base_uri": "https://localhost:8080/"
        },
        "outputId": "f409787a-7d21-4b00-aaa8-03a4cf5ec5f2"
      },
      "outputs": [
        {
          "output_type": "execute_result",
          "data": {
            "text/plain": [
              "2.714205276705277"
            ]
          },
          "metadata": {},
          "execution_count": 69
        }
      ],
      "source": [
        "df['count'].var()"
      ]
    },
    {
      "cell_type": "markdown",
      "metadata": {
        "deletable": false,
        "editable": false,
        "nbgrader": {
          "cell_type": "markdown",
          "checksum": "b4a780958afa9edf3438cf326b4d525e",
          "grade": false,
          "grade_id": "cell-2b06fb08fa48e21a",
          "locked": true,
          "schema_version": 3,
          "solution": false,
          "task": false
        },
        "id": "4flFCaSdGWPj"
      },
      "source": [
        "Не факт, что мы имеем право предполагать, что наша выборка пришла к нам из распределения Пуассона. Все предпосылки о распределениях выборки нужно тестировать. Позже мы научимся это делать."
      ]
    }
  ],
  "metadata": {
    "kernelspec": {
      "display_name": "Python 3",
      "language": "python",
      "name": "python3"
    },
    "language_info": {
      "codemirror_mode": {
        "name": "ipython",
        "version": 3
      },
      "file_extension": ".py",
      "mimetype": "text/x-python",
      "name": "python",
      "nbconvert_exporter": "python",
      "pygments_lexer": "ipython3",
      "version": "3.7.4"
    },
    "colab": {
      "provenance": [],
      "include_colab_link": true
    }
  },
  "nbformat": 4,
  "nbformat_minor": 0
}