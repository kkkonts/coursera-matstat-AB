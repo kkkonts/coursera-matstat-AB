{
  "cells": [
    {
      "cell_type": "markdown",
      "metadata": {
        "id": "view-in-github",
        "colab_type": "text"
      },
      "source": [
        "<a href=\"https://colab.research.google.com/github/kkkonts/coursera-matstat-AB/blob/main/hw02_groceries.ipynb\" target=\"_parent\"><img src=\"https://colab.research.google.com/assets/colab-badge.svg\" alt=\"Open In Colab\"/></a>"
      ]
    },
    {
      "cell_type": "markdown",
      "metadata": {
        "id": "7Q1JPptMkyVg"
      },
      "source": [
        "#  Анализируем чеки\n",
        "\n",
        "В этом задании мы будем работать с покупками и чеками. Смотреть за корреляциями в покупках довольно полезно.\n",
        "\n",
        "> В 1992 году группа по консалтингу в области ритейла компании Teradata под руководством Томаса Блишока провела исследование 1.2 миллиона транзакций в 25 магазинах для ритейлера Osco Drug (Drug Store — формат разнокалиберных магазинов у дома). После анализа всех этих транзакций самым сильным правилом получилось «Между 17:00 и 19:00 чаще всего пиво и подгузники покупают вместе». К сожалению, такое правило показалось руководству Osco Drug настолько контринтуитивным, что ставить подгузники на полках рядом с пивом они не стали. Хотя объяснение паре пиво-подгузники вполне себе нашлось: когда оба члена молодой семьи возвращались с работы домой (как раз часам к 5 вечера), жены обычно отправляли мужей за подгузниками в ближайший магазин. И мужья, не долго думая, совмещали приятное с полезным — покупали подгузники по заданию жены и пиво для собственного вечернего времяпрепровождения.\n",
        "\n",
        "Для работы будем использовать датасет о продуктовых корзинах: https://www.kaggle.com/heeraldedhia/groceries-dataset"
      ]
    },
    {
      "cell_type": "code",
      "execution_count": 6,
      "metadata": {
        "id": "jK1ZAZdPkyVi"
      },
      "outputs": [],
      "source": [
        "import numpy as np\n",
        "import pandas as pd\n",
        "\n",
        "import scipy.stats as sts\n",
        "import matplotlib.pyplot as plt\n",
        "import seaborn as sns\n",
        "\n",
        "plt.style.use('seaborn-v0_8-pastel')\n",
        "%matplotlib inline"
      ]
    },
    {
      "cell_type": "markdown",
      "metadata": {
        "id": "gXCuzPH6kyVj"
      },
      "source": [
        "Подружаем данные и смотрим как они выглядят."
      ]
    },
    {
      "cell_type": "code",
      "execution_count": 7,
      "metadata": {
        "colab": {
          "base_uri": "https://localhost:8080/",
          "height": 221
        },
        "id": "V70crMoYkyVj",
        "outputId": "1a6adf36-9bdf-4721-d020-fa899ae4b8ee"
      },
      "outputs": [
        {
          "output_type": "stream",
          "name": "stdout",
          "text": [
            "(38765, 3)\n"
          ]
        },
        {
          "output_type": "execute_result",
          "data": {
            "text/plain": [
              "     id   fielddate           product\n",
              "0  1808  21-07-2015    tropical fruit\n",
              "1  2552  05-01-2015        whole milk\n",
              "2  2300  19-09-2015         pip fruit\n",
              "3  1187  12-12-2015  other vegetables\n",
              "4  3037  01-02-2015        whole milk"
            ],
            "text/html": [
              "\n",
              "  <div id=\"df-332d3770-bbdc-4ad2-8f12-42d99d107c56\" class=\"colab-df-container\">\n",
              "    <div>\n",
              "<style scoped>\n",
              "    .dataframe tbody tr th:only-of-type {\n",
              "        vertical-align: middle;\n",
              "    }\n",
              "\n",
              "    .dataframe tbody tr th {\n",
              "        vertical-align: top;\n",
              "    }\n",
              "\n",
              "    .dataframe thead th {\n",
              "        text-align: right;\n",
              "    }\n",
              "</style>\n",
              "<table border=\"1\" class=\"dataframe\">\n",
              "  <thead>\n",
              "    <tr style=\"text-align: right;\">\n",
              "      <th></th>\n",
              "      <th>id</th>\n",
              "      <th>fielddate</th>\n",
              "      <th>product</th>\n",
              "    </tr>\n",
              "  </thead>\n",
              "  <tbody>\n",
              "    <tr>\n",
              "      <th>0</th>\n",
              "      <td>1808</td>\n",
              "      <td>21-07-2015</td>\n",
              "      <td>tropical fruit</td>\n",
              "    </tr>\n",
              "    <tr>\n",
              "      <th>1</th>\n",
              "      <td>2552</td>\n",
              "      <td>05-01-2015</td>\n",
              "      <td>whole milk</td>\n",
              "    </tr>\n",
              "    <tr>\n",
              "      <th>2</th>\n",
              "      <td>2300</td>\n",
              "      <td>19-09-2015</td>\n",
              "      <td>pip fruit</td>\n",
              "    </tr>\n",
              "    <tr>\n",
              "      <th>3</th>\n",
              "      <td>1187</td>\n",
              "      <td>12-12-2015</td>\n",
              "      <td>other vegetables</td>\n",
              "    </tr>\n",
              "    <tr>\n",
              "      <th>4</th>\n",
              "      <td>3037</td>\n",
              "      <td>01-02-2015</td>\n",
              "      <td>whole milk</td>\n",
              "    </tr>\n",
              "  </tbody>\n",
              "</table>\n",
              "</div>\n",
              "    <div class=\"colab-df-buttons\">\n",
              "\n",
              "  <div class=\"colab-df-container\">\n",
              "    <button class=\"colab-df-convert\" onclick=\"convertToInteractive('df-332d3770-bbdc-4ad2-8f12-42d99d107c56')\"\n",
              "            title=\"Convert this dataframe to an interactive table.\"\n",
              "            style=\"display:none;\">\n",
              "\n",
              "  <svg xmlns=\"http://www.w3.org/2000/svg\" height=\"24px\" viewBox=\"0 -960 960 960\">\n",
              "    <path d=\"M120-120v-720h720v720H120Zm60-500h600v-160H180v160Zm220 220h160v-160H400v160Zm0 220h160v-160H400v160ZM180-400h160v-160H180v160Zm440 0h160v-160H620v160ZM180-180h160v-160H180v160Zm440 0h160v-160H620v160Z\"/>\n",
              "  </svg>\n",
              "    </button>\n",
              "\n",
              "  <style>\n",
              "    .colab-df-container {\n",
              "      display:flex;\n",
              "      gap: 12px;\n",
              "    }\n",
              "\n",
              "    .colab-df-convert {\n",
              "      background-color: #E8F0FE;\n",
              "      border: none;\n",
              "      border-radius: 50%;\n",
              "      cursor: pointer;\n",
              "      display: none;\n",
              "      fill: #1967D2;\n",
              "      height: 32px;\n",
              "      padding: 0 0 0 0;\n",
              "      width: 32px;\n",
              "    }\n",
              "\n",
              "    .colab-df-convert:hover {\n",
              "      background-color: #E2EBFA;\n",
              "      box-shadow: 0px 1px 2px rgba(60, 64, 67, 0.3), 0px 1px 3px 1px rgba(60, 64, 67, 0.15);\n",
              "      fill: #174EA6;\n",
              "    }\n",
              "\n",
              "    .colab-df-buttons div {\n",
              "      margin-bottom: 4px;\n",
              "    }\n",
              "\n",
              "    [theme=dark] .colab-df-convert {\n",
              "      background-color: #3B4455;\n",
              "      fill: #D2E3FC;\n",
              "    }\n",
              "\n",
              "    [theme=dark] .colab-df-convert:hover {\n",
              "      background-color: #434B5C;\n",
              "      box-shadow: 0px 1px 3px 1px rgba(0, 0, 0, 0.15);\n",
              "      filter: drop-shadow(0px 1px 2px rgba(0, 0, 0, 0.3));\n",
              "      fill: #FFFFFF;\n",
              "    }\n",
              "  </style>\n",
              "\n",
              "    <script>\n",
              "      const buttonEl =\n",
              "        document.querySelector('#df-332d3770-bbdc-4ad2-8f12-42d99d107c56 button.colab-df-convert');\n",
              "      buttonEl.style.display =\n",
              "        google.colab.kernel.accessAllowed ? 'block' : 'none';\n",
              "\n",
              "      async function convertToInteractive(key) {\n",
              "        const element = document.querySelector('#df-332d3770-bbdc-4ad2-8f12-42d99d107c56');\n",
              "        const dataTable =\n",
              "          await google.colab.kernel.invokeFunction('convertToInteractive',\n",
              "                                                    [key], {});\n",
              "        if (!dataTable) return;\n",
              "\n",
              "        const docLinkHtml = 'Like what you see? Visit the ' +\n",
              "          '<a target=\"_blank\" href=https://colab.research.google.com/notebooks/data_table.ipynb>data table notebook</a>'\n",
              "          + ' to learn more about interactive tables.';\n",
              "        element.innerHTML = '';\n",
              "        dataTable['output_type'] = 'display_data';\n",
              "        await google.colab.output.renderOutput(dataTable, element);\n",
              "        const docLink = document.createElement('div');\n",
              "        docLink.innerHTML = docLinkHtml;\n",
              "        element.appendChild(docLink);\n",
              "      }\n",
              "    </script>\n",
              "  </div>\n",
              "\n",
              "\n",
              "<div id=\"df-d1c40f2c-896c-4a93-aaf1-2b5805feb004\">\n",
              "  <button class=\"colab-df-quickchart\" onclick=\"quickchart('df-d1c40f2c-896c-4a93-aaf1-2b5805feb004')\"\n",
              "            title=\"Suggest charts.\"\n",
              "            style=\"display:none;\">\n",
              "\n",
              "<svg xmlns=\"http://www.w3.org/2000/svg\" height=\"24px\"viewBox=\"0 0 24 24\"\n",
              "     width=\"24px\">\n",
              "    <g>\n",
              "        <path d=\"M19 3H5c-1.1 0-2 .9-2 2v14c0 1.1.9 2 2 2h14c1.1 0 2-.9 2-2V5c0-1.1-.9-2-2-2zM9 17H7v-7h2v7zm4 0h-2V7h2v10zm4 0h-2v-4h2v4z\"/>\n",
              "    </g>\n",
              "</svg>\n",
              "  </button>\n",
              "\n",
              "<style>\n",
              "  .colab-df-quickchart {\n",
              "    background-color: #E8F0FE;\n",
              "    border: none;\n",
              "    border-radius: 50%;\n",
              "    cursor: pointer;\n",
              "    display: none;\n",
              "    fill: #1967D2;\n",
              "    height: 32px;\n",
              "    padding: 0 0 0 0;\n",
              "    width: 32px;\n",
              "  }\n",
              "\n",
              "  .colab-df-quickchart:hover {\n",
              "    background-color: #E2EBFA;\n",
              "    box-shadow: 0px 1px 2px rgba(60, 64, 67, 0.3), 0px 1px 3px 1px rgba(60, 64, 67, 0.15);\n",
              "    fill: #174EA6;\n",
              "  }\n",
              "\n",
              "  [theme=dark] .colab-df-quickchart {\n",
              "    background-color: #3B4455;\n",
              "    fill: #D2E3FC;\n",
              "  }\n",
              "\n",
              "  [theme=dark] .colab-df-quickchart:hover {\n",
              "    background-color: #434B5C;\n",
              "    box-shadow: 0px 1px 3px 1px rgba(0, 0, 0, 0.15);\n",
              "    filter: drop-shadow(0px 1px 2px rgba(0, 0, 0, 0.3));\n",
              "    fill: #FFFFFF;\n",
              "  }\n",
              "</style>\n",
              "\n",
              "  <script>\n",
              "    async function quickchart(key) {\n",
              "      const charts = await google.colab.kernel.invokeFunction(\n",
              "          'suggestCharts', [key], {});\n",
              "    }\n",
              "    (() => {\n",
              "      let quickchartButtonEl =\n",
              "        document.querySelector('#df-d1c40f2c-896c-4a93-aaf1-2b5805feb004 button');\n",
              "      quickchartButtonEl.style.display =\n",
              "        google.colab.kernel.accessAllowed ? 'block' : 'none';\n",
              "    })();\n",
              "  </script>\n",
              "</div>\n",
              "    </div>\n",
              "  </div>\n"
            ]
          },
          "metadata": {},
          "execution_count": 7
        }
      ],
      "source": [
        "df = pd.read_csv('groceries.csv', sep=',')\n",
        "df.columns = ['id', 'fielddate', 'product']\n",
        "print(df.shape)\n",
        "df.head()"
      ]
    },
    {
      "cell_type": "markdown",
      "metadata": {
        "id": "i57opL9vkyVj"
      },
      "source": [
        "## 1. Корреляции\n",
        "\n",
        "Для начала поработаем с корреляциями в данных.\n",
        "\n",
        "__а)__ Какой товар покупался чаще всего? Сохраните название этого товара в переменную `product_name`."
      ]
    },
    {
      "cell_type": "code",
      "execution_count": 8,
      "metadata": {
        "deletable": false,
        "nbgrader": {
          "cell_type": "code",
          "checksum": "989acb2aed6b8d1e95ba1aa5ff5c8988",
          "grade": false,
          "grade_id": "cell-9d268bdaaa451d51",
          "locked": false,
          "schema_version": 3,
          "solution": true,
          "task": false
        },
        "colab": {
          "base_uri": "https://localhost:8080/",
          "height": 35
        },
        "id": "spBBUREukyVj",
        "outputId": "5b88bf4a-4b41-4f59-e27e-07f14043845d"
      },
      "outputs": [
        {
          "output_type": "execute_result",
          "data": {
            "text/plain": [
              "'whole milk'"
            ],
            "application/vnd.google.colaboratory.intrinsic+json": {
              "type": "string"
            }
          },
          "metadata": {},
          "execution_count": 8
        }
      ],
      "source": [
        "# Формат ответа: строка, пример: 'pip fruit'\n",
        "# Вокруг ответа не должно быть никаких надписей array(['pip fruit']) или Index('pip fruit')\n",
        "# Это должна быть именно строка, а не строка в массиве\n",
        "product_name = df['product'].value_counts().index[0]\n",
        "product_name\n",
        "# your code here\n"
      ]
    },
    {
      "cell_type": "code",
      "execution_count": 9,
      "metadata": {
        "deletable": false,
        "editable": false,
        "nbgrader": {
          "cell_type": "code",
          "checksum": "153389c55c6243d7b8897ca0e33be5a5",
          "grade": true,
          "grade_id": "cell-2fd1cfdcf5400ee3",
          "locked": true,
          "points": 1,
          "schema_version": 3,
          "solution": false,
          "task": false
        },
        "id": "-zlpRShYkyVk"
      },
      "outputs": [],
      "source": [
        "# проверка, что задание решено корректно\n",
        "assert len(product_name) == 10\n",
        "\n",
        "# Аналогичные тесты скрыты от вас"
      ]
    },
    {
      "cell_type": "markdown",
      "metadata": {
        "id": "W0z9P6V0kyVk"
      },
      "source": [
        "__б)__ Сколько всего уникальных заказов было сделано? Сохраните число заказов в переменную `n_cnt`."
      ]
    },
    {
      "cell_type": "code",
      "execution_count": 10,
      "metadata": {
        "deletable": false,
        "nbgrader": {
          "cell_type": "code",
          "checksum": "057496e296948a782d9b48f9b4ea3815",
          "grade": false,
          "grade_id": "cell-4c3ce54e9c52ae14",
          "locked": false,
          "schema_version": 3,
          "solution": true,
          "task": false
        },
        "colab": {
          "base_uri": "https://localhost:8080/"
        },
        "id": "-r8z1JY6kyVk",
        "outputId": "12c4a25e-1e1c-43eb-dbe4-0d60838aac9c"
      },
      "outputs": [
        {
          "output_type": "execute_result",
          "data": {
            "text/plain": [
              "3898"
            ]
          },
          "metadata": {},
          "execution_count": 10
        }
      ],
      "source": [
        "# Формат ответа: целое число, пример: 5555\n",
        "n_cnt = df['id'].value_counts().shape[0]\n",
        "n_cnt\n",
        "\n"
      ]
    },
    {
      "cell_type": "code",
      "execution_count": 11,
      "metadata": {
        "deletable": false,
        "editable": false,
        "nbgrader": {
          "cell_type": "code",
          "checksum": "f93cfd87b43b743e88a4a21d5a773f5e",
          "grade": true,
          "grade_id": "cell-608432c41bdcd71d",
          "locked": true,
          "points": 1,
          "schema_version": 3,
          "solution": false,
          "task": false
        },
        "id": "QE5tB6USkyVk"
      },
      "outputs": [],
      "source": [
        "# проверка, что задание решено корректно\n",
        "assert n_cnt > 3800\n",
        "assert n_cnt < 4000\n",
        "\n",
        "# Аналогичные тесты скрыты от вас"
      ]
    },
    {
      "cell_type": "markdown",
      "metadata": {
        "id": "Ij7PItSXkyVk"
      },
      "source": [
        "В таблице выше в каждой строке записана информация о покупке конкретного товара. Давайте сделаем табличку размера \"число товаров\" на \"число покупок\", чтобы понимать какие товары покупались вместе, а какие нет.\n",
        "\n",
        "> Обратите внимание, то здесь задание немного упрощено. Вообще говоря, нам нужно делать агрегацию по паре `fielddate, id`, если мы хотим изучать чеки по-честному. Но мы делаем её только по `id` для того, чтобы не усложнять задание. В качестве необязательного дополнения вы можете после сдачи задания переделать код так, чтобы дата тоже учитывалась при расчётах."
      ]
    },
    {
      "cell_type": "code",
      "execution_count": 12,
      "metadata": {
        "colab": {
          "base_uri": "https://localhost:8080/",
          "height": 318
        },
        "id": "uipeWaCVkyVk",
        "outputId": "1662dd19-4168-464a-c053-38a713c5101d"
      },
      "outputs": [
        {
          "output_type": "execute_result",
          "data": {
            "text/plain": [
              "product  Instant food products  UHT-milk  abrasive cleaner  artif. sweetener  \\\n",
              "id                                                                             \n",
              "1000                         0         0                 0                 0   \n",
              "1001                         0         0                 0                 0   \n",
              "1002                         0         0                 0                 0   \n",
              "1003                         0         0                 0                 0   \n",
              "1004                         0         0                 0                 0   \n",
              "\n",
              "product  baby cosmetics  bags  baking powder  bathroom cleaner  beef  berries  \\\n",
              "id                                                                              \n",
              "1000                  0     0              0                 0     0        0   \n",
              "1001                  0     0              0                 0     1        0   \n",
              "1002                  0     0              0                 0     0        0   \n",
              "1003                  0     0              0                 0     0        0   \n",
              "1004                  0     0              0                 0     0        0   \n",
              "\n",
              "product  ...  turkey  vinegar  waffles  whipped/sour cream  whisky  \\\n",
              "id       ...                                                         \n",
              "1000     ...       0        0        0                   0       0   \n",
              "1001     ...       0        0        0                   1       0   \n",
              "1002     ...       0        0        0                   0       0   \n",
              "1003     ...       0        0        0                   0       0   \n",
              "1004     ...       0        0        0                   0       0   \n",
              "\n",
              "product  white bread  white wine  whole milk  yogurt  zwieback  \n",
              "id                                                              \n",
              "1000               0           0           2       1         0  \n",
              "1001               1           0           2       0         0  \n",
              "1002               0           0           1       0         0  \n",
              "1003               0           0           0       0         0  \n",
              "1004               0           0           3       0         0  \n",
              "\n",
              "[5 rows x 167 columns]"
            ],
            "text/html": [
              "\n",
              "  <div id=\"df-b9b7b16e-7b49-4f60-8816-60c20cf4817c\" class=\"colab-df-container\">\n",
              "    <div>\n",
              "<style scoped>\n",
              "    .dataframe tbody tr th:only-of-type {\n",
              "        vertical-align: middle;\n",
              "    }\n",
              "\n",
              "    .dataframe tbody tr th {\n",
              "        vertical-align: top;\n",
              "    }\n",
              "\n",
              "    .dataframe thead th {\n",
              "        text-align: right;\n",
              "    }\n",
              "</style>\n",
              "<table border=\"1\" class=\"dataframe\">\n",
              "  <thead>\n",
              "    <tr style=\"text-align: right;\">\n",
              "      <th>product</th>\n",
              "      <th>Instant food products</th>\n",
              "      <th>UHT-milk</th>\n",
              "      <th>abrasive cleaner</th>\n",
              "      <th>artif. sweetener</th>\n",
              "      <th>baby cosmetics</th>\n",
              "      <th>bags</th>\n",
              "      <th>baking powder</th>\n",
              "      <th>bathroom cleaner</th>\n",
              "      <th>beef</th>\n",
              "      <th>berries</th>\n",
              "      <th>...</th>\n",
              "      <th>turkey</th>\n",
              "      <th>vinegar</th>\n",
              "      <th>waffles</th>\n",
              "      <th>whipped/sour cream</th>\n",
              "      <th>whisky</th>\n",
              "      <th>white bread</th>\n",
              "      <th>white wine</th>\n",
              "      <th>whole milk</th>\n",
              "      <th>yogurt</th>\n",
              "      <th>zwieback</th>\n",
              "    </tr>\n",
              "    <tr>\n",
              "      <th>id</th>\n",
              "      <th></th>\n",
              "      <th></th>\n",
              "      <th></th>\n",
              "      <th></th>\n",
              "      <th></th>\n",
              "      <th></th>\n",
              "      <th></th>\n",
              "      <th></th>\n",
              "      <th></th>\n",
              "      <th></th>\n",
              "      <th></th>\n",
              "      <th></th>\n",
              "      <th></th>\n",
              "      <th></th>\n",
              "      <th></th>\n",
              "      <th></th>\n",
              "      <th></th>\n",
              "      <th></th>\n",
              "      <th></th>\n",
              "      <th></th>\n",
              "      <th></th>\n",
              "    </tr>\n",
              "  </thead>\n",
              "  <tbody>\n",
              "    <tr>\n",
              "      <th>1000</th>\n",
              "      <td>0</td>\n",
              "      <td>0</td>\n",
              "      <td>0</td>\n",
              "      <td>0</td>\n",
              "      <td>0</td>\n",
              "      <td>0</td>\n",
              "      <td>0</td>\n",
              "      <td>0</td>\n",
              "      <td>0</td>\n",
              "      <td>0</td>\n",
              "      <td>...</td>\n",
              "      <td>0</td>\n",
              "      <td>0</td>\n",
              "      <td>0</td>\n",
              "      <td>0</td>\n",
              "      <td>0</td>\n",
              "      <td>0</td>\n",
              "      <td>0</td>\n",
              "      <td>2</td>\n",
              "      <td>1</td>\n",
              "      <td>0</td>\n",
              "    </tr>\n",
              "    <tr>\n",
              "      <th>1001</th>\n",
              "      <td>0</td>\n",
              "      <td>0</td>\n",
              "      <td>0</td>\n",
              "      <td>0</td>\n",
              "      <td>0</td>\n",
              "      <td>0</td>\n",
              "      <td>0</td>\n",
              "      <td>0</td>\n",
              "      <td>1</td>\n",
              "      <td>0</td>\n",
              "      <td>...</td>\n",
              "      <td>0</td>\n",
              "      <td>0</td>\n",
              "      <td>0</td>\n",
              "      <td>1</td>\n",
              "      <td>0</td>\n",
              "      <td>1</td>\n",
              "      <td>0</td>\n",
              "      <td>2</td>\n",
              "      <td>0</td>\n",
              "      <td>0</td>\n",
              "    </tr>\n",
              "    <tr>\n",
              "      <th>1002</th>\n",
              "      <td>0</td>\n",
              "      <td>0</td>\n",
              "      <td>0</td>\n",
              "      <td>0</td>\n",
              "      <td>0</td>\n",
              "      <td>0</td>\n",
              "      <td>0</td>\n",
              "      <td>0</td>\n",
              "      <td>0</td>\n",
              "      <td>0</td>\n",
              "      <td>...</td>\n",
              "      <td>0</td>\n",
              "      <td>0</td>\n",
              "      <td>0</td>\n",
              "      <td>0</td>\n",
              "      <td>0</td>\n",
              "      <td>0</td>\n",
              "      <td>0</td>\n",
              "      <td>1</td>\n",
              "      <td>0</td>\n",
              "      <td>0</td>\n",
              "    </tr>\n",
              "    <tr>\n",
              "      <th>1003</th>\n",
              "      <td>0</td>\n",
              "      <td>0</td>\n",
              "      <td>0</td>\n",
              "      <td>0</td>\n",
              "      <td>0</td>\n",
              "      <td>0</td>\n",
              "      <td>0</td>\n",
              "      <td>0</td>\n",
              "      <td>0</td>\n",
              "      <td>0</td>\n",
              "      <td>...</td>\n",
              "      <td>0</td>\n",
              "      <td>0</td>\n",
              "      <td>0</td>\n",
              "      <td>0</td>\n",
              "      <td>0</td>\n",
              "      <td>0</td>\n",
              "      <td>0</td>\n",
              "      <td>0</td>\n",
              "      <td>0</td>\n",
              "      <td>0</td>\n",
              "    </tr>\n",
              "    <tr>\n",
              "      <th>1004</th>\n",
              "      <td>0</td>\n",
              "      <td>0</td>\n",
              "      <td>0</td>\n",
              "      <td>0</td>\n",
              "      <td>0</td>\n",
              "      <td>0</td>\n",
              "      <td>0</td>\n",
              "      <td>0</td>\n",
              "      <td>0</td>\n",
              "      <td>0</td>\n",
              "      <td>...</td>\n",
              "      <td>0</td>\n",
              "      <td>0</td>\n",
              "      <td>0</td>\n",
              "      <td>0</td>\n",
              "      <td>0</td>\n",
              "      <td>0</td>\n",
              "      <td>0</td>\n",
              "      <td>3</td>\n",
              "      <td>0</td>\n",
              "      <td>0</td>\n",
              "    </tr>\n",
              "  </tbody>\n",
              "</table>\n",
              "<p>5 rows × 167 columns</p>\n",
              "</div>\n",
              "    <div class=\"colab-df-buttons\">\n",
              "\n",
              "  <div class=\"colab-df-container\">\n",
              "    <button class=\"colab-df-convert\" onclick=\"convertToInteractive('df-b9b7b16e-7b49-4f60-8816-60c20cf4817c')\"\n",
              "            title=\"Convert this dataframe to an interactive table.\"\n",
              "            style=\"display:none;\">\n",
              "\n",
              "  <svg xmlns=\"http://www.w3.org/2000/svg\" height=\"24px\" viewBox=\"0 -960 960 960\">\n",
              "    <path d=\"M120-120v-720h720v720H120Zm60-500h600v-160H180v160Zm220 220h160v-160H400v160Zm0 220h160v-160H400v160ZM180-400h160v-160H180v160Zm440 0h160v-160H620v160ZM180-180h160v-160H180v160Zm440 0h160v-160H620v160Z\"/>\n",
              "  </svg>\n",
              "    </button>\n",
              "\n",
              "  <style>\n",
              "    .colab-df-container {\n",
              "      display:flex;\n",
              "      gap: 12px;\n",
              "    }\n",
              "\n",
              "    .colab-df-convert {\n",
              "      background-color: #E8F0FE;\n",
              "      border: none;\n",
              "      border-radius: 50%;\n",
              "      cursor: pointer;\n",
              "      display: none;\n",
              "      fill: #1967D2;\n",
              "      height: 32px;\n",
              "      padding: 0 0 0 0;\n",
              "      width: 32px;\n",
              "    }\n",
              "\n",
              "    .colab-df-convert:hover {\n",
              "      background-color: #E2EBFA;\n",
              "      box-shadow: 0px 1px 2px rgba(60, 64, 67, 0.3), 0px 1px 3px 1px rgba(60, 64, 67, 0.15);\n",
              "      fill: #174EA6;\n",
              "    }\n",
              "\n",
              "    .colab-df-buttons div {\n",
              "      margin-bottom: 4px;\n",
              "    }\n",
              "\n",
              "    [theme=dark] .colab-df-convert {\n",
              "      background-color: #3B4455;\n",
              "      fill: #D2E3FC;\n",
              "    }\n",
              "\n",
              "    [theme=dark] .colab-df-convert:hover {\n",
              "      background-color: #434B5C;\n",
              "      box-shadow: 0px 1px 3px 1px rgba(0, 0, 0, 0.15);\n",
              "      filter: drop-shadow(0px 1px 2px rgba(0, 0, 0, 0.3));\n",
              "      fill: #FFFFFF;\n",
              "    }\n",
              "  </style>\n",
              "\n",
              "    <script>\n",
              "      const buttonEl =\n",
              "        document.querySelector('#df-b9b7b16e-7b49-4f60-8816-60c20cf4817c button.colab-df-convert');\n",
              "      buttonEl.style.display =\n",
              "        google.colab.kernel.accessAllowed ? 'block' : 'none';\n",
              "\n",
              "      async function convertToInteractive(key) {\n",
              "        const element = document.querySelector('#df-b9b7b16e-7b49-4f60-8816-60c20cf4817c');\n",
              "        const dataTable =\n",
              "          await google.colab.kernel.invokeFunction('convertToInteractive',\n",
              "                                                    [key], {});\n",
              "        if (!dataTable) return;\n",
              "\n",
              "        const docLinkHtml = 'Like what you see? Visit the ' +\n",
              "          '<a target=\"_blank\" href=https://colab.research.google.com/notebooks/data_table.ipynb>data table notebook</a>'\n",
              "          + ' to learn more about interactive tables.';\n",
              "        element.innerHTML = '';\n",
              "        dataTable['output_type'] = 'display_data';\n",
              "        await google.colab.output.renderOutput(dataTable, element);\n",
              "        const docLink = document.createElement('div');\n",
              "        docLink.innerHTML = docLinkHtml;\n",
              "        element.appendChild(docLink);\n",
              "      }\n",
              "    </script>\n",
              "  </div>\n",
              "\n",
              "\n",
              "<div id=\"df-3d29c4b3-f53e-413e-9138-e85af23c148c\">\n",
              "  <button class=\"colab-df-quickchart\" onclick=\"quickchart('df-3d29c4b3-f53e-413e-9138-e85af23c148c')\"\n",
              "            title=\"Suggest charts.\"\n",
              "            style=\"display:none;\">\n",
              "\n",
              "<svg xmlns=\"http://www.w3.org/2000/svg\" height=\"24px\"viewBox=\"0 0 24 24\"\n",
              "     width=\"24px\">\n",
              "    <g>\n",
              "        <path d=\"M19 3H5c-1.1 0-2 .9-2 2v14c0 1.1.9 2 2 2h14c1.1 0 2-.9 2-2V5c0-1.1-.9-2-2-2zM9 17H7v-7h2v7zm4 0h-2V7h2v10zm4 0h-2v-4h2v4z\"/>\n",
              "    </g>\n",
              "</svg>\n",
              "  </button>\n",
              "\n",
              "<style>\n",
              "  .colab-df-quickchart {\n",
              "    background-color: #E8F0FE;\n",
              "    border: none;\n",
              "    border-radius: 50%;\n",
              "    cursor: pointer;\n",
              "    display: none;\n",
              "    fill: #1967D2;\n",
              "    height: 32px;\n",
              "    padding: 0 0 0 0;\n",
              "    width: 32px;\n",
              "  }\n",
              "\n",
              "  .colab-df-quickchart:hover {\n",
              "    background-color: #E2EBFA;\n",
              "    box-shadow: 0px 1px 2px rgba(60, 64, 67, 0.3), 0px 1px 3px 1px rgba(60, 64, 67, 0.15);\n",
              "    fill: #174EA6;\n",
              "  }\n",
              "\n",
              "  [theme=dark] .colab-df-quickchart {\n",
              "    background-color: #3B4455;\n",
              "    fill: #D2E3FC;\n",
              "  }\n",
              "\n",
              "  [theme=dark] .colab-df-quickchart:hover {\n",
              "    background-color: #434B5C;\n",
              "    box-shadow: 0px 1px 3px 1px rgba(0, 0, 0, 0.15);\n",
              "    filter: drop-shadow(0px 1px 2px rgba(0, 0, 0, 0.3));\n",
              "    fill: #FFFFFF;\n",
              "  }\n",
              "</style>\n",
              "\n",
              "  <script>\n",
              "    async function quickchart(key) {\n",
              "      const charts = await google.colab.kernel.invokeFunction(\n",
              "          'suggestCharts', [key], {});\n",
              "    }\n",
              "    (() => {\n",
              "      let quickchartButtonEl =\n",
              "        document.querySelector('#df-3d29c4b3-f53e-413e-9138-e85af23c148c button');\n",
              "      quickchartButtonEl.style.display =\n",
              "        google.colab.kernel.accessAllowed ? 'block' : 'none';\n",
              "    })();\n",
              "  </script>\n",
              "</div>\n",
              "    </div>\n",
              "  </div>\n"
            ]
          },
          "metadata": {},
          "execution_count": 12
        }
      ],
      "source": [
        "sparse_sales = pd.pivot_table(df,\n",
        "               values='fielddate',\n",
        "               index='id',\n",
        "               columns='product',\n",
        "               fill_value=0, aggfunc='count')\n",
        "\n",
        "sparse_sales.head()"
      ]
    },
    {
      "cell_type": "markdown",
      "metadata": {
        "id": "eZPTWH4kkyVl"
      },
      "source": [
        "В нашей матрице огромное число нулей. Обычно такие матрицы называют разряжеными. Мы занимаем нулями кучу свободной памяти, которую мы могли бы не занимать, если бы хранили данные [в ином виде.](https://cmdlinetips.com/2018/03/sparse-matrices-in-python-with-scipy/)"
      ]
    },
    {
      "cell_type": "markdown",
      "metadata": {
        "id": "A6xo1iNSkyVl"
      },
      "source": [
        "__в)__ Постройте матрицу корреляций Пирсона. Для этого используйте метод таблицы `.corr`."
      ]
    },
    {
      "cell_type": "code",
      "execution_count": 125,
      "metadata": {
        "deletable": false,
        "nbgrader": {
          "cell_type": "code",
          "checksum": "1f316bc47a0a361a6abdfb0740156e24",
          "grade": false,
          "grade_id": "cell-a8f15b8ba3a946c8",
          "locked": false,
          "schema_version": 3,
          "solution": true,
          "task": false
        },
        "colab": {
          "base_uri": "https://localhost:8080/",
          "height": 403
        },
        "id": "HmBL5XPMkyVl",
        "outputId": "c9059905-5357-4764-91b4-7cb5b28e674c"
      },
      "outputs": [
        {
          "output_type": "execute_result",
          "data": {
            "text/plain": [
              "product                Instant food products  UHT-milk  abrasive cleaner  \\\n",
              "product                                                                    \n",
              "Instant food products               1.000000 -0.006936         -0.009420   \n",
              "UHT-milk                           -0.006936  1.000000          0.013806   \n",
              "abrasive cleaner                   -0.009420  0.013806          1.000000   \n",
              "artif. sweetener                   -0.010825  0.006105         -0.006523   \n",
              "baby cosmetics                     -0.003470 -0.007877         -0.002091   \n",
              "\n",
              "product                artif. sweetener  baby cosmetics      bags  \\\n",
              "product                                                             \n",
              "Instant food products         -0.010825       -0.003470 -0.004007   \n",
              "UHT-milk                       0.006105       -0.007877  0.018349   \n",
              "abrasive cleaner              -0.006523       -0.002091 -0.002415   \n",
              "artif. sweetener               1.000000        0.105251 -0.002775   \n",
              "baby cosmetics                 0.105251        1.000000 -0.000889   \n",
              "\n",
              "product                baking powder  bathroom cleaner      beef   berries  \\\n",
              "product                                                                      \n",
              "Instant food products      -0.010419         -0.008275  0.005847 -0.014528   \n",
              "UHT-milk                    0.009462         -0.018785  0.002897  0.020801   \n",
              "abrasive cleaner           -0.013429         -0.004986  0.018970  0.001813   \n",
              "artif. sweetener           -0.015432         -0.005730 -0.006645  0.016042   \n",
              "baby cosmetics             -0.004947         -0.001837  0.014798 -0.007983   \n",
              "\n",
              "product                ...    turkey   vinegar   waffles  whipped/sour cream  \\\n",
              "product                ...                                                     \n",
              "Instant food products  ...  0.025355  0.021851  0.005348            0.014025   \n",
              "UHT-milk               ... -0.003803 -0.024466  0.009144            0.006618   \n",
              "abrasive cleaner       ...  0.012922 -0.008507 -0.007390            0.002163   \n",
              "artif. sweetener       ...  0.049392 -0.009776  0.010179           -0.006614   \n",
              "baby cosmetics         ... -0.003919 -0.003134 -0.007413           -0.011288   \n",
              "\n",
              "product                  whisky  white bread  white wine  whole milk  \\\n",
              "product                                                                \n",
              "Instant food products -0.005670     0.016640    0.002853    0.015981   \n",
              "UHT-milk              -0.012871    -0.011550    0.009990    0.028747   \n",
              "abrasive cleaner      -0.003417     0.010777    0.000107    0.003558   \n",
              "artif. sweetener      -0.003926    -0.006806   -0.018394    0.029591   \n",
              "baby cosmetics        -0.001259    -0.008476   -0.005896   -0.021056   \n",
              "\n",
              "product                  yogurt  zwieback  \n",
              "product                                    \n",
              "Instant food products  0.005071  0.018221  \n",
              "UHT-milk               0.006505  0.028753  \n",
              "abrasive cleaner       0.008360 -0.009420  \n",
              "artif. sweetener      -0.024397 -0.010825  \n",
              "baby cosmetics        -0.000410 -0.003470  \n",
              "\n",
              "[5 rows x 167 columns]"
            ],
            "text/html": [
              "\n",
              "  <div id=\"df-dce031e6-dcfc-4f08-8e10-6980c3934b22\" class=\"colab-df-container\">\n",
              "    <div>\n",
              "<style scoped>\n",
              "    .dataframe tbody tr th:only-of-type {\n",
              "        vertical-align: middle;\n",
              "    }\n",
              "\n",
              "    .dataframe tbody tr th {\n",
              "        vertical-align: top;\n",
              "    }\n",
              "\n",
              "    .dataframe thead th {\n",
              "        text-align: right;\n",
              "    }\n",
              "</style>\n",
              "<table border=\"1\" class=\"dataframe\">\n",
              "  <thead>\n",
              "    <tr style=\"text-align: right;\">\n",
              "      <th>product</th>\n",
              "      <th>Instant food products</th>\n",
              "      <th>UHT-milk</th>\n",
              "      <th>abrasive cleaner</th>\n",
              "      <th>artif. sweetener</th>\n",
              "      <th>baby cosmetics</th>\n",
              "      <th>bags</th>\n",
              "      <th>baking powder</th>\n",
              "      <th>bathroom cleaner</th>\n",
              "      <th>beef</th>\n",
              "      <th>berries</th>\n",
              "      <th>...</th>\n",
              "      <th>turkey</th>\n",
              "      <th>vinegar</th>\n",
              "      <th>waffles</th>\n",
              "      <th>whipped/sour cream</th>\n",
              "      <th>whisky</th>\n",
              "      <th>white bread</th>\n",
              "      <th>white wine</th>\n",
              "      <th>whole milk</th>\n",
              "      <th>yogurt</th>\n",
              "      <th>zwieback</th>\n",
              "    </tr>\n",
              "    <tr>\n",
              "      <th>product</th>\n",
              "      <th></th>\n",
              "      <th></th>\n",
              "      <th></th>\n",
              "      <th></th>\n",
              "      <th></th>\n",
              "      <th></th>\n",
              "      <th></th>\n",
              "      <th></th>\n",
              "      <th></th>\n",
              "      <th></th>\n",
              "      <th></th>\n",
              "      <th></th>\n",
              "      <th></th>\n",
              "      <th></th>\n",
              "      <th></th>\n",
              "      <th></th>\n",
              "      <th></th>\n",
              "      <th></th>\n",
              "      <th></th>\n",
              "      <th></th>\n",
              "      <th></th>\n",
              "    </tr>\n",
              "  </thead>\n",
              "  <tbody>\n",
              "    <tr>\n",
              "      <th>Instant food products</th>\n",
              "      <td>1.000000</td>\n",
              "      <td>-0.006936</td>\n",
              "      <td>-0.009420</td>\n",
              "      <td>-0.010825</td>\n",
              "      <td>-0.003470</td>\n",
              "      <td>-0.004007</td>\n",
              "      <td>-0.010419</td>\n",
              "      <td>-0.008275</td>\n",
              "      <td>0.005847</td>\n",
              "      <td>-0.014528</td>\n",
              "      <td>...</td>\n",
              "      <td>0.025355</td>\n",
              "      <td>0.021851</td>\n",
              "      <td>0.005348</td>\n",
              "      <td>0.014025</td>\n",
              "      <td>-0.005670</td>\n",
              "      <td>0.016640</td>\n",
              "      <td>0.002853</td>\n",
              "      <td>0.015981</td>\n",
              "      <td>0.005071</td>\n",
              "      <td>0.018221</td>\n",
              "    </tr>\n",
              "    <tr>\n",
              "      <th>UHT-milk</th>\n",
              "      <td>-0.006936</td>\n",
              "      <td>1.000000</td>\n",
              "      <td>0.013806</td>\n",
              "      <td>0.006105</td>\n",
              "      <td>-0.007877</td>\n",
              "      <td>0.018349</td>\n",
              "      <td>0.009462</td>\n",
              "      <td>-0.018785</td>\n",
              "      <td>0.002897</td>\n",
              "      <td>0.020801</td>\n",
              "      <td>...</td>\n",
              "      <td>-0.003803</td>\n",
              "      <td>-0.024466</td>\n",
              "      <td>0.009144</td>\n",
              "      <td>0.006618</td>\n",
              "      <td>-0.012871</td>\n",
              "      <td>-0.011550</td>\n",
              "      <td>0.009990</td>\n",
              "      <td>0.028747</td>\n",
              "      <td>0.006505</td>\n",
              "      <td>0.028753</td>\n",
              "    </tr>\n",
              "    <tr>\n",
              "      <th>abrasive cleaner</th>\n",
              "      <td>-0.009420</td>\n",
              "      <td>0.013806</td>\n",
              "      <td>1.000000</td>\n",
              "      <td>-0.006523</td>\n",
              "      <td>-0.002091</td>\n",
              "      <td>-0.002415</td>\n",
              "      <td>-0.013429</td>\n",
              "      <td>-0.004986</td>\n",
              "      <td>0.018970</td>\n",
              "      <td>0.001813</td>\n",
              "      <td>...</td>\n",
              "      <td>0.012922</td>\n",
              "      <td>-0.008507</td>\n",
              "      <td>-0.007390</td>\n",
              "      <td>0.002163</td>\n",
              "      <td>-0.003417</td>\n",
              "      <td>0.010777</td>\n",
              "      <td>0.000107</td>\n",
              "      <td>0.003558</td>\n",
              "      <td>0.008360</td>\n",
              "      <td>-0.009420</td>\n",
              "    </tr>\n",
              "    <tr>\n",
              "      <th>artif. sweetener</th>\n",
              "      <td>-0.010825</td>\n",
              "      <td>0.006105</td>\n",
              "      <td>-0.006523</td>\n",
              "      <td>1.000000</td>\n",
              "      <td>0.105251</td>\n",
              "      <td>-0.002775</td>\n",
              "      <td>-0.015432</td>\n",
              "      <td>-0.005730</td>\n",
              "      <td>-0.006645</td>\n",
              "      <td>0.016042</td>\n",
              "      <td>...</td>\n",
              "      <td>0.049392</td>\n",
              "      <td>-0.009776</td>\n",
              "      <td>0.010179</td>\n",
              "      <td>-0.006614</td>\n",
              "      <td>-0.003926</td>\n",
              "      <td>-0.006806</td>\n",
              "      <td>-0.018394</td>\n",
              "      <td>0.029591</td>\n",
              "      <td>-0.024397</td>\n",
              "      <td>-0.010825</td>\n",
              "    </tr>\n",
              "    <tr>\n",
              "      <th>baby cosmetics</th>\n",
              "      <td>-0.003470</td>\n",
              "      <td>-0.007877</td>\n",
              "      <td>-0.002091</td>\n",
              "      <td>0.105251</td>\n",
              "      <td>1.000000</td>\n",
              "      <td>-0.000889</td>\n",
              "      <td>-0.004947</td>\n",
              "      <td>-0.001837</td>\n",
              "      <td>0.014798</td>\n",
              "      <td>-0.007983</td>\n",
              "      <td>...</td>\n",
              "      <td>-0.003919</td>\n",
              "      <td>-0.003134</td>\n",
              "      <td>-0.007413</td>\n",
              "      <td>-0.011288</td>\n",
              "      <td>-0.001259</td>\n",
              "      <td>-0.008476</td>\n",
              "      <td>-0.005896</td>\n",
              "      <td>-0.021056</td>\n",
              "      <td>-0.000410</td>\n",
              "      <td>-0.003470</td>\n",
              "    </tr>\n",
              "  </tbody>\n",
              "</table>\n",
              "<p>5 rows × 167 columns</p>\n",
              "</div>\n",
              "    <div class=\"colab-df-buttons\">\n",
              "\n",
              "  <div class=\"colab-df-container\">\n",
              "    <button class=\"colab-df-convert\" onclick=\"convertToInteractive('df-dce031e6-dcfc-4f08-8e10-6980c3934b22')\"\n",
              "            title=\"Convert this dataframe to an interactive table.\"\n",
              "            style=\"display:none;\">\n",
              "\n",
              "  <svg xmlns=\"http://www.w3.org/2000/svg\" height=\"24px\" viewBox=\"0 -960 960 960\">\n",
              "    <path d=\"M120-120v-720h720v720H120Zm60-500h600v-160H180v160Zm220 220h160v-160H400v160Zm0 220h160v-160H400v160ZM180-400h160v-160H180v160Zm440 0h160v-160H620v160ZM180-180h160v-160H180v160Zm440 0h160v-160H620v160Z\"/>\n",
              "  </svg>\n",
              "    </button>\n",
              "\n",
              "  <style>\n",
              "    .colab-df-container {\n",
              "      display:flex;\n",
              "      gap: 12px;\n",
              "    }\n",
              "\n",
              "    .colab-df-convert {\n",
              "      background-color: #E8F0FE;\n",
              "      border: none;\n",
              "      border-radius: 50%;\n",
              "      cursor: pointer;\n",
              "      display: none;\n",
              "      fill: #1967D2;\n",
              "      height: 32px;\n",
              "      padding: 0 0 0 0;\n",
              "      width: 32px;\n",
              "    }\n",
              "\n",
              "    .colab-df-convert:hover {\n",
              "      background-color: #E2EBFA;\n",
              "      box-shadow: 0px 1px 2px rgba(60, 64, 67, 0.3), 0px 1px 3px 1px rgba(60, 64, 67, 0.15);\n",
              "      fill: #174EA6;\n",
              "    }\n",
              "\n",
              "    .colab-df-buttons div {\n",
              "      margin-bottom: 4px;\n",
              "    }\n",
              "\n",
              "    [theme=dark] .colab-df-convert {\n",
              "      background-color: #3B4455;\n",
              "      fill: #D2E3FC;\n",
              "    }\n",
              "\n",
              "    [theme=dark] .colab-df-convert:hover {\n",
              "      background-color: #434B5C;\n",
              "      box-shadow: 0px 1px 3px 1px rgba(0, 0, 0, 0.15);\n",
              "      filter: drop-shadow(0px 1px 2px rgba(0, 0, 0, 0.3));\n",
              "      fill: #FFFFFF;\n",
              "    }\n",
              "  </style>\n",
              "\n",
              "    <script>\n",
              "      const buttonEl =\n",
              "        document.querySelector('#df-dce031e6-dcfc-4f08-8e10-6980c3934b22 button.colab-df-convert');\n",
              "      buttonEl.style.display =\n",
              "        google.colab.kernel.accessAllowed ? 'block' : 'none';\n",
              "\n",
              "      async function convertToInteractive(key) {\n",
              "        const element = document.querySelector('#df-dce031e6-dcfc-4f08-8e10-6980c3934b22');\n",
              "        const dataTable =\n",
              "          await google.colab.kernel.invokeFunction('convertToInteractive',\n",
              "                                                    [key], {});\n",
              "        if (!dataTable) return;\n",
              "\n",
              "        const docLinkHtml = 'Like what you see? Visit the ' +\n",
              "          '<a target=\"_blank\" href=https://colab.research.google.com/notebooks/data_table.ipynb>data table notebook</a>'\n",
              "          + ' to learn more about interactive tables.';\n",
              "        element.innerHTML = '';\n",
              "        dataTable['output_type'] = 'display_data';\n",
              "        await google.colab.output.renderOutput(dataTable, element);\n",
              "        const docLink = document.createElement('div');\n",
              "        docLink.innerHTML = docLinkHtml;\n",
              "        element.appendChild(docLink);\n",
              "      }\n",
              "    </script>\n",
              "  </div>\n",
              "\n",
              "\n",
              "<div id=\"df-2c3d7734-07c4-496c-8463-bf0e5df52943\">\n",
              "  <button class=\"colab-df-quickchart\" onclick=\"quickchart('df-2c3d7734-07c4-496c-8463-bf0e5df52943')\"\n",
              "            title=\"Suggest charts.\"\n",
              "            style=\"display:none;\">\n",
              "\n",
              "<svg xmlns=\"http://www.w3.org/2000/svg\" height=\"24px\"viewBox=\"0 0 24 24\"\n",
              "     width=\"24px\">\n",
              "    <g>\n",
              "        <path d=\"M19 3H5c-1.1 0-2 .9-2 2v14c0 1.1.9 2 2 2h14c1.1 0 2-.9 2-2V5c0-1.1-.9-2-2-2zM9 17H7v-7h2v7zm4 0h-2V7h2v10zm4 0h-2v-4h2v4z\"/>\n",
              "    </g>\n",
              "</svg>\n",
              "  </button>\n",
              "\n",
              "<style>\n",
              "  .colab-df-quickchart {\n",
              "    background-color: #E8F0FE;\n",
              "    border: none;\n",
              "    border-radius: 50%;\n",
              "    cursor: pointer;\n",
              "    display: none;\n",
              "    fill: #1967D2;\n",
              "    height: 32px;\n",
              "    padding: 0 0 0 0;\n",
              "    width: 32px;\n",
              "  }\n",
              "\n",
              "  .colab-df-quickchart:hover {\n",
              "    background-color: #E2EBFA;\n",
              "    box-shadow: 0px 1px 2px rgba(60, 64, 67, 0.3), 0px 1px 3px 1px rgba(60, 64, 67, 0.15);\n",
              "    fill: #174EA6;\n",
              "  }\n",
              "\n",
              "  [theme=dark] .colab-df-quickchart {\n",
              "    background-color: #3B4455;\n",
              "    fill: #D2E3FC;\n",
              "  }\n",
              "\n",
              "  [theme=dark] .colab-df-quickchart:hover {\n",
              "    background-color: #434B5C;\n",
              "    box-shadow: 0px 1px 3px 1px rgba(0, 0, 0, 0.15);\n",
              "    filter: drop-shadow(0px 1px 2px rgba(0, 0, 0, 0.3));\n",
              "    fill: #FFFFFF;\n",
              "  }\n",
              "</style>\n",
              "\n",
              "  <script>\n",
              "    async function quickchart(key) {\n",
              "      const charts = await google.colab.kernel.invokeFunction(\n",
              "          'suggestCharts', [key], {});\n",
              "    }\n",
              "    (() => {\n",
              "      let quickchartButtonEl =\n",
              "        document.querySelector('#df-2c3d7734-07c4-496c-8463-bf0e5df52943 button');\n",
              "      quickchartButtonEl.style.display =\n",
              "        google.colab.kernel.accessAllowed ? 'block' : 'none';\n",
              "    })();\n",
              "  </script>\n",
              "</div>\n",
              "    </div>\n",
              "  </div>\n"
            ]
          },
          "metadata": {},
          "execution_count": 125
        }
      ],
      "source": [
        "# Формат ответа: таблица pd.DataFrame размера (167, 167)\n",
        "sales_correlation = sparse_sales.corr(method='pearson')\n",
        "sales_correlation.head()"
      ]
    },
    {
      "cell_type": "markdown",
      "metadata": {
        "id": "f-ZMDMbfkyVl"
      },
      "source": [
        "Какие продукты сильнее всего коррелируют с яйцами, `domestic eggs` (их чаще всего покупают вместе)?  Сохраните название самого скоррелированного продукта в переменную `top_1`."
      ]
    },
    {
      "cell_type": "code",
      "execution_count": 14,
      "metadata": {
        "deletable": false,
        "nbgrader": {
          "cell_type": "code",
          "checksum": "678a180e150dcff0fd0b246353de1e61",
          "grade": false,
          "grade_id": "cell-cf20442762e0f104",
          "locked": false,
          "schema_version": 3,
          "solution": true,
          "task": false
        },
        "colab": {
          "base_uri": "https://localhost:8080/",
          "height": 35
        },
        "id": "FK_W59sYkyVl",
        "outputId": "e153174e-cb04-4831-e979-cc0f76aa5327"
      },
      "outputs": [
        {
          "output_type": "execute_result",
          "data": {
            "text/plain": [
              "'meat spreads'"
            ],
            "application/vnd.google.colaboratory.intrinsic+json": {
              "type": "string"
            }
          },
          "metadata": {},
          "execution_count": 14
        }
      ],
      "source": [
        "# Формат ответа: строка, пример: 'pip fruit'\n",
        "# Вокруг ответа не должно быть никаких надписей array(['pip fruit']) или Index('pip fruit')\n",
        "# Это должна быть именно строка, а не строка в массиве\n",
        "top_1 = sales_correlation['domestic eggs'].sort_values().index[-2]\n",
        "top_1"
      ]
    },
    {
      "cell_type": "markdown",
      "metadata": {
        "id": "LFdmcx_GkyVl"
      },
      "source": [
        "Какие продукты \"мешают\" купить яйца, то есть отрицательно коррелируют с их покупкой? Сохраните название продукта с самой большой отрицательной корреляцией в переменную `bottom_1`."
      ]
    },
    {
      "cell_type": "code",
      "execution_count": 15,
      "metadata": {
        "deletable": false,
        "nbgrader": {
          "cell_type": "code",
          "checksum": "a69d93d0bdb0f94a8c15081269d5a6cf",
          "grade": false,
          "grade_id": "cell-fbd202e1529e31c7",
          "locked": false,
          "schema_version": 3,
          "solution": true,
          "task": false
        },
        "colab": {
          "base_uri": "https://localhost:8080/",
          "height": 35
        },
        "id": "NC1NQR0kkyVl",
        "outputId": "25bd8b40-7057-4aa5-e94c-413b4062c267"
      },
      "outputs": [
        {
          "output_type": "execute_result",
          "data": {
            "text/plain": [
              "'pet care'"
            ],
            "application/vnd.google.colaboratory.intrinsic+json": {
              "type": "string"
            }
          },
          "metadata": {},
          "execution_count": 15
        }
      ],
      "source": [
        "# Формат ответа: строка, пример: 'pip fruit'\n",
        "# Вокруг ответа не должно быть никаких надписей array(['pip fruit']) или Index('pip fruit')\n",
        "# Это должна быть именно строка, а не строка в массиве\n",
        "bottom_1 = sales_correlation['domestic eggs'].sort_values().index[0]\n",
        "bottom_1"
      ]
    },
    {
      "cell_type": "code",
      "execution_count": 16,
      "metadata": {
        "deletable": false,
        "editable": false,
        "nbgrader": {
          "cell_type": "code",
          "checksum": "6ac2ce2c786529bbf15bc7a6d8e5b419",
          "grade": true,
          "grade_id": "cell-d070d4a1a7bde720",
          "locked": true,
          "points": 1,
          "schema_version": 3,
          "solution": false,
          "task": false
        },
        "id": "qpCmOSDGkyVm"
      },
      "outputs": [],
      "source": [
        "# проверка, что задание решено корректно\n",
        "assert len(bottom_1) == 8\n",
        "assert len(top_1) == 12\n",
        "\n",
        "# Аналогичные тесты скрыты от вас"
      ]
    },
    {
      "cell_type": "markdown",
      "metadata": {
        "id": "74Dy53vUkyVm"
      },
      "source": [
        "Напишите код, который выводит самые коррелируемые товары для случайного продукта из списка `unique_products`."
      ]
    },
    {
      "cell_type": "code",
      "execution_count": 45,
      "metadata": {
        "deletable": false,
        "nbgrader": {
          "cell_type": "code",
          "checksum": "d9963e0690e8f979766ae92f7c9e1637",
          "grade": false,
          "grade_id": "cell-50a7be49564df467",
          "locked": false,
          "schema_version": 3,
          "solution": true,
          "task": false
        },
        "colab": {
          "base_uri": "https://localhost:8080/"
        },
        "id": "pjMY1GcNkyVm",
        "outputId": "feed7894-7c9e-4f44-da5a-823a15101361"
      },
      "outputs": [
        {
          "output_type": "execute_result",
          "data": {
            "text/plain": [
              "('soups', 'preservation products')"
            ]
          },
          "metadata": {},
          "execution_count": 45
        }
      ],
      "source": [
        "unique_products = df['product'].unique()"
      ]
    },
    {
      "cell_type": "markdown",
      "metadata": {
        "id": "cUeKGXXFkyVm"
      },
      "source": [
        "__г)__ Какие два продукта коррелируют сильнее всего? Положите их название в лист `answer`"
      ]
    },
    {
      "cell_type": "code",
      "execution_count": 49,
      "metadata": {
        "deletable": false,
        "nbgrader": {
          "cell_type": "code",
          "checksum": "a1a02722726bdf7cbe654db4c3218c07",
          "grade": false,
          "grade_id": "cell-dd462f4db3d9a2f7",
          "locked": false,
          "schema_version": 3,
          "solution": true,
          "task": false
        },
        "colab": {
          "base_uri": "https://localhost:8080/"
        },
        "id": "cI7Axtv4kyVm",
        "outputId": "7a000410-f889-4e7e-eedf-a809b1483450"
      },
      "outputs": [
        {
          "output_type": "execute_result",
          "data": {
            "text/plain": [
              "('soups', 'preservation products')"
            ]
          },
          "metadata": {},
          "execution_count": 49
        }
      ],
      "source": [
        "# Формат ответа: массив из строк, пример: ['soups', 'apple', 'iphone 18']\n",
        "\n",
        "answer = sales_correlation.unstack().sort_values(ascending=False).index[sales_correlation.shape[0]]\n",
        "answer"
      ]
    },
    {
      "cell_type": "code",
      "execution_count": 48,
      "metadata": {
        "deletable": false,
        "editable": false,
        "nbgrader": {
          "cell_type": "code",
          "checksum": "6ff9da58bc1861cd17f35b979e3d3e41",
          "grade": true,
          "grade_id": "cell-894ff9bec07f24e0",
          "locked": true,
          "points": 1,
          "schema_version": 3,
          "solution": false,
          "task": false
        },
        "id": "uQLHQslokyVm"
      },
      "outputs": [],
      "source": [
        "# проверка, что задание решено корректно\n",
        "assert 'soups' in answer\n",
        "# Аналогичные тесты скрыты от вас"
      ]
    },
    {
      "cell_type": "markdown",
      "metadata": {
        "id": "yV8lfRRakyVm"
      },
      "source": [
        "Конечно же, корреляция — это [не единственный способ искать](https://habr.com/ru/company/ods/blog/353502/) между покупками ассоциативные правила."
      ]
    },
    {
      "cell_type": "markdown",
      "metadata": {
        "id": "6Dv9CgfEkyVn"
      },
      "source": [
        "## 2. Зависимость.\n",
        "\n",
        "В лекции мы с вами сказали, что события $A$ и $B$ называются независимыми, если $P(AB) = P(A)\\cdot P(B)$. Отталкиваясь от этого определения, можно ввести другую характеристику, которая показывает, насколько продукты зависят друг от друга, а именно __поддержку (lift).__\n",
        "\n",
        "$$\n",
        "lift = \\frac{P(AB)}{P(A)\\cdot P(B)}\n",
        "$$"
      ]
    },
    {
      "cell_type": "markdown",
      "metadata": {
        "id": "DjGKRdaZkyVn"
      },
      "source": [
        "Эта метрика описывает отношение зависимости товаров к их независимости. Если оказалось, что `lift = 1`, это означает, что покупка товара $A$ не зависит от покупки товара $B$. Если `lift > 1`, то это означает, что вероятность встретить оба товара в чеке, $P(AB)$ высокая, то есть товары покупают вместе. Если `lift < 1`, это означает, что товары, наоборот, очень часто покупают по-отдельности."
      ]
    },
    {
      "cell_type": "markdown",
      "metadata": {
        "id": "PqS7GL74kyVn"
      },
      "source": [
        "__д)__ Посчитайте значение нашей метрики для яиц и молока (`'whole milk', 'domestic eggs'`). Запишите получившиеся значение метрики в переменную `answer`.\n",
        "\n",
        "> Вам аккуратно нужно сделать три среза по условию  `>= 1`. Там, где пара надо делать срез так, чтобы оба товара дали `True`. Сделать это в одну строку вам поможет метод `.all(axis=1)`. Частоты можно получить методом `.mean()`, так как python думает, что `False` - это ноль, а `True` - это единица."
      ]
    },
    {
      "cell_type": "code",
      "execution_count": 91,
      "metadata": {
        "deletable": false,
        "nbgrader": {
          "cell_type": "code",
          "checksum": "7f3a2317b0d46f2e40f1180f36e55dd6",
          "grade": false,
          "grade_id": "cell-db191a336be19f97",
          "locked": false,
          "schema_version": 3,
          "solution": true,
          "task": false
        },
        "colab": {
          "base_uri": "https://localhost:8080/"
        },
        "id": "skZDwnRrkyVn",
        "outputId": "989088b3-02f1-46ea-9078-7b2e45b264fa"
      },
      "outputs": [
        {
          "output_type": "execute_result",
          "data": {
            "text/plain": [
              "Index(['Instant food products', 'UHT-milk', 'abrasive cleaner',\n",
              "       'artif. sweetener', 'baby cosmetics', 'bags', 'baking powder',\n",
              "       'bathroom cleaner', 'beef', 'berries',\n",
              "       ...\n",
              "       'turkey', 'vinegar', 'waffles', 'whipped/sour cream', 'whisky',\n",
              "       'white bread', 'white wine', 'whole milk', 'yogurt', 'zwieback'],\n",
              "      dtype='object', name='product', length=167)"
            ]
          },
          "metadata": {},
          "execution_count": 91
        }
      ],
      "source": [
        "# Формат ответа: действительное чиссло, пример: 3.1418281828\n",
        "ss = sparse_sales\n",
        "p_a = np.where(ss['whole milk'] > 0, True, False).mean()\n",
        "p_b = np.where(ss['domestic eggs'] > 0, True, False).mean()\n",
        "p_ab = ss[['whole milk', 'domestic eggs']].all(axis=1).mean()\n",
        "answer = p_ab / p_a / p_b\n",
        "\n",
        "answer"
      ]
    },
    {
      "cell_type": "code",
      "execution_count": 85,
      "metadata": {
        "deletable": false,
        "editable": false,
        "nbgrader": {
          "cell_type": "code",
          "checksum": "ae6b5fdfedb6956db845d780ce9bfbf0",
          "grade": true,
          "grade_id": "cell-c2f789696293a0b3",
          "locked": true,
          "points": 1,
          "schema_version": 3,
          "solution": false,
          "task": false
        },
        "id": "64yPt_xQkyVn"
      },
      "outputs": [],
      "source": [
        "# проверка, что задание решено корректно\n",
        "assert answer < 3\n",
        "assert answer > 1\n",
        "\n",
        "# Аналогичные тесты скрыты от вас"
      ]
    },
    {
      "cell_type": "markdown",
      "metadata": {
        "id": "LO0pd5FAkyVo"
      },
      "source": [
        "__е)__ Посчитайте значение метрики для всех пар продуктов из датасета. Сохраните значения в словарик `dict`. В качестве ключа используете кортеж из пары продуктов. Чтобы удобнее было перебрать все сочетания, используйте `combinations` из модуля `itertools`.\n",
        "\n",
        "Чтобы при подсчётах не возникало деления на ноль, добавьте к знаменателю маленькое число, например `1e-10`."
      ]
    },
    {
      "cell_type": "code",
      "execution_count": 123,
      "metadata": {
        "deletable": false,
        "nbgrader": {
          "cell_type": "code",
          "checksum": "26f315f8a90daedcda97ffc328155445",
          "grade": false,
          "grade_id": "cell-e512719bd3dbbd34",
          "locked": false,
          "schema_version": 3,
          "solution": true,
          "task": false
        },
        "colab": {
          "base_uri": "https://localhost:8080/"
        },
        "id": "PKxtIlltkyVo",
        "outputId": "03715709-b60d-4499-cb00-e1c017e29c2d"
      },
      "outputs": [
        {
          "output_type": "execute_result",
          "data": {
            "text/plain": [
              "{('Instant food products', 'UHT-milk'): 0.8492374661678654,\n",
              " ('Instant food products', 'abrasive cleaner'): 0.0,\n",
              " ('Instant food products', 'artif. sweetener'): 0.0,\n",
              " ('Instant food products', 'baby cosmetics'): 0.0,\n",
              " ('Instant food products', 'bags'): 0.0,\n",
              " ('Instant food products', 'baking powder'): 0.5369145953331453,\n",
              " ('Instant food products', 'bathroom cleaner'): 0.0,\n",
              " ('Instant food products', 'beef'): 1.2547210208418644,\n",
              " ('Instant food products', 'berries'): 0.6266880980370312,\n",
              " ('Instant food products', 'beverages'): 1.0738291923959544}"
            ]
          },
          "metadata": {},
          "execution_count": 123
        }
      ],
      "source": [
        "from itertools import combinations\n",
        "from itertools import islice\n",
        "\n",
        "res = {}\n",
        "def lift(comb):\n",
        "    for tpl in comb:\n",
        "        p_a = 1e-10 + np.where(ss[tpl[0]] > 0, True, False).mean()\n",
        "        p_b = 1e-10 + np.where(ss[tpl[1]] > 0, True, False).mean()\n",
        "        p_ab = ss[[tpl[0], tpl[1]]].all(axis=1).mean()\n",
        "        res[tpl] = p_ab / p_a / p_b\n",
        "\n",
        "lift(combinations(ss.columns, 2))\n",
        "\n",
        "dict(islice(res.items(), 10))"
      ]
    },
    {
      "cell_type": "markdown",
      "metadata": {
        "id": "zL8BOZjmkyVo"
      },
      "source": [
        "Сколько пар продуктов покупали вместе хотя бы раз? Запишите ответ в переменную `answer`."
      ]
    },
    {
      "cell_type": "code",
      "execution_count": 116,
      "metadata": {
        "deletable": false,
        "nbgrader": {
          "cell_type": "code",
          "checksum": "eefa1ae8918a171dac3c431005fe824a",
          "grade": false,
          "grade_id": "cell-097e70120aa5a596",
          "locked": false,
          "schema_version": 3,
          "solution": true,
          "task": false
        },
        "colab": {
          "base_uri": "https://localhost:8080/"
        },
        "id": "D9kUEM72kyVo",
        "outputId": "eeb23c66-1af2-436b-e9ec-e291dc0c88f4"
      },
      "outputs": [
        {
          "output_type": "execute_result",
          "data": {
            "text/plain": [
              "9824"
            ]
          },
          "metadata": {},
          "execution_count": 116
        }
      ],
      "source": [
        "# Формат ответа: целое число, пример: 5555\n",
        "tmp_list = []\n",
        "\n",
        "for key, value in res.items():\n",
        "    if value:\n",
        "        tmp_list.append(key)\n",
        "len(tmp_list)"
      ]
    },
    {
      "cell_type": "markdown",
      "metadata": {
        "id": "76va5Ow8kyVo"
      },
      "source": [
        "Для какой пары продуктов метрика $lift$ оказалась самой большой?"
      ]
    },
    {
      "cell_type": "code",
      "execution_count": 109,
      "metadata": {
        "deletable": false,
        "nbgrader": {
          "cell_type": "code",
          "checksum": "3935f2223dddf3a9658a90034e2ebd5d",
          "grade": false,
          "grade_id": "cell-e0e772420c99a1f4",
          "locked": false,
          "schema_version": 3,
          "solution": true,
          "task": false
        },
        "colab": {
          "base_uri": "https://localhost:8080/"
        },
        "id": "zPKjVrsjkyVp",
        "outputId": "b5d71f9e-cb20-4b62-879a-55e7ab9dbe3c"
      },
      "outputs": [
        {
          "output_type": "execute_result",
          "data": {
            "text/plain": [
              "('preservation products', 'soups')"
            ]
          },
          "metadata": {},
          "execution_count": 109
        }
      ],
      "source": [
        "max_lift_key = max(res, key=res.get)\n",
        "max_lift_key"
      ]
    },
    {
      "cell_type": "markdown",
      "metadata": {
        "id": "LqyALahYkyVp"
      },
      "source": [
        "Сколько раз эти продукты встретились в выборке? Как думаете адеватно ли делать выводы по такому объёму данных?"
      ]
    },
    {
      "cell_type": "code",
      "execution_count": 110,
      "metadata": {
        "deletable": false,
        "nbgrader": {
          "cell_type": "code",
          "checksum": "dc2e17f19344df8a8e09d989c31e436b",
          "grade": false,
          "grade_id": "cell-cfbf5b5deb321f36",
          "locked": false,
          "schema_version": 3,
          "solution": true,
          "task": false
        },
        "colab": {
          "base_uri": "https://localhost:8080/"
        },
        "id": "RIdJm8-DkyVp",
        "outputId": "23d0b015-a6b6-4017-d136-e21dd301d963"
      },
      "outputs": [
        {
          "output_type": "stream",
          "name": "stdout",
          "text": [
            "1\n",
            "48\n"
          ]
        }
      ],
      "source": [
        "print(np.where(ss[max_lift_key[0]], True, False).sum())\n",
        "print(np.where(ss[max_lift_key[1]], True, False).sum())"
      ]
    },
    {
      "cell_type": "markdown",
      "metadata": {
        "id": "YKADKJJrkyVq"
      },
      "source": [
        "Для какой пары продуктов метрика оказывается самой маленькой?"
      ]
    },
    {
      "cell_type": "code",
      "execution_count": 114,
      "metadata": {
        "deletable": false,
        "nbgrader": {
          "cell_type": "code",
          "checksum": "a4a911333c146c4d9ec09e8f51a5fb6c",
          "grade": false,
          "grade_id": "cell-0c88c82cc7bdef09",
          "locked": false,
          "schema_version": 3,
          "solution": true,
          "task": false
        },
        "colab": {
          "base_uri": "https://localhost:8080/"
        },
        "id": "VNIRZYytkyVq",
        "outputId": "30e3a12e-3bf3-40b9-c4aa-d445a89aec46"
      },
      "outputs": [
        {
          "output_type": "execute_result",
          "data": {
            "text/plain": [
              "('Instant food products', 'abrasive cleaner')"
            ]
          },
          "metadata": {},
          "execution_count": 114
        }
      ],
      "source": [
        "min_lift_key = min(res, key=res.get)\n",
        "min_lift_key"
      ]
    },
    {
      "cell_type": "code",
      "execution_count": 115,
      "metadata": {
        "deletable": false,
        "editable": false,
        "nbgrader": {
          "cell_type": "code",
          "checksum": "c15571d658306ab43839bcf4d8e42bae",
          "grade": true,
          "grade_id": "cell-b7f41317d840457e",
          "locked": true,
          "points": 1,
          "schema_version": 3,
          "solution": false,
          "task": false
        },
        "colab": {
          "base_uri": "https://localhost:8080/",
          "height": 242
        },
        "id": "MS18OscPkyVq",
        "outputId": "68574b0b-3449-4a6e-c287-ffe3ca5cdbeb"
      },
      "outputs": [
        {
          "output_type": "error",
          "ename": "TypeError",
          "evalue": "ignored",
          "traceback": [
            "\u001b[0;31m---------------------------------------------------------------------------\u001b[0m",
            "\u001b[0;31mTypeError\u001b[0m                                 Traceback (most recent call last)",
            "\u001b[0;32m<ipython-input-115-b176a1b7db31>\u001b[0m in \u001b[0;36m<cell line: 3>\u001b[0;34m()\u001b[0m\n\u001b[1;32m      1\u001b[0m \u001b[0;31m# проверка, что задание решено корректно\u001b[0m\u001b[0;34m\u001b[0m\u001b[0;34m\u001b[0m\u001b[0m\n\u001b[1;32m      2\u001b[0m \u001b[0;34m\u001b[0m\u001b[0m\n\u001b[0;32m----> 3\u001b[0;31m \u001b[0;32massert\u001b[0m \u001b[0manswer\u001b[0m \u001b[0;34m<\u001b[0m \u001b[0;36m10000\u001b[0m\u001b[0;34m\u001b[0m\u001b[0;34m\u001b[0m\u001b[0m\n\u001b[0m\u001b[1;32m      4\u001b[0m \u001b[0;32massert\u001b[0m \u001b[0manswer\u001b[0m \u001b[0;34m>\u001b[0m \u001b[0;36m9000\u001b[0m\u001b[0;34m\u001b[0m\u001b[0;34m\u001b[0m\u001b[0m\n\u001b[1;32m      5\u001b[0m \u001b[0;34m\u001b[0m\u001b[0m\n",
            "\u001b[0;31mTypeError\u001b[0m: '<' not supported between instances of 'list' and 'int'"
          ]
        }
      ],
      "source": [
        "# проверка, что задание решено корректно\n",
        "\n",
        "assert answer < 10000\n",
        "assert answer > 9000\n",
        "\n",
        "# Аналогичные тесты скрыты от вас"
      ]
    },
    {
      "cell_type": "markdown",
      "metadata": {
        "id": "KVe5ejaskyVq"
      },
      "source": [
        "## 3. Неоцениваемые задания\n",
        "\n",
        "Выше мы увидели, что некоторые продукты встречаются в выборке очень редко. Понятное дело, что по ним у нас не получится построить хорошее ассоциативное правило. Попробуйте повторить расчёт той же метрики, но с условием что продукт покупали больше 10 раз. Изучите самые покупаемые вместе продукты и самые непокупаемые вместе продукты. Насколько сильно список отличается от полученного в предыдущем задании?"
      ]
    },
    {
      "cell_type": "code",
      "execution_count": 124,
      "metadata": {
        "deletable": false,
        "nbgrader": {
          "cell_type": "code",
          "checksum": "99e685544038e446e2d67bd1cd4f6a3c",
          "grade": false,
          "grade_id": "cell-aa30f3933e22e20d",
          "locked": false,
          "schema_version": 3,
          "solution": true,
          "task": false
        },
        "colab": {
          "base_uri": "https://localhost:8080/"
        },
        "id": "yUP8IHeAkyVr",
        "outputId": "6f7cdf2f-c412-4f95-f501-7b0ef770a782"
      },
      "outputs": [
        {
          "output_type": "execute_result",
          "data": {
            "text/plain": [
              "{('Instant food products', 'UHT-milk'): 0.8492374661678654,\n",
              " ('Instant food products', 'abrasive cleaner'): 0.0,\n",
              " ('Instant food products', 'artif. sweetener'): 0.0,\n",
              " ('Instant food products', 'baking powder'): 0.5369145953331453,\n",
              " ('Instant food products', 'bathroom cleaner'): 0.0,\n",
              " ('Instant food products', 'beef'): 1.2547210208418644,\n",
              " ('Instant food products', 'berries'): 0.6266880980370312,\n",
              " ('Instant food products', 'beverages'): 1.0738291923959544,\n",
              " ('Instant food products', 'bottled beer'): 1.154496491503354,\n",
              " ('Instant food products', 'bottled water'): 0.8579031552895415}"
            ]
          },
          "metadata": {},
          "execution_count": 124
        }
      ],
      "source": [
        "from itertools import combinations\n",
        "\n",
        "res = {}\n",
        "def lift(comb):\n",
        "    for tpl in comb:\n",
        "        na = np.where(ss[tpl[0]] > 0, True, False).sum()\n",
        "        nb = np.where(ss[tpl[1]] > 0, True, False).sum()\n",
        "\n",
        "        if na > 10 and nb > 10:\n",
        "            p_a = 1e-10 + np.where(ss[tpl[0]] > 0, True, False).mean()\n",
        "            p_b = 1e-10 + np.where(ss[tpl[1]] > 0, True, False).mean()\n",
        "            p_ab = ss[[tpl[0], tpl[1]]].all(axis=1).mean()\n",
        "            res[tpl] = p_ab / p_a / p_b\n",
        "\n",
        "lift(combinations(ss.columns, 2))\n",
        "dict(islice(res.items(), 10))"
      ]
    },
    {
      "cell_type": "code",
      "source": [
        "max_lift_key = max(res, key=res.get)\n",
        "max_lift_key\n",
        "max(res)"
      ],
      "metadata": {
        "colab": {
          "base_uri": "https://localhost:8080/"
        },
        "id": "r8Qa74RmwQw6",
        "outputId": "0ed26da7-3df9-4a88-fffd-fbbeee90ed91"
      },
      "execution_count": 120,
      "outputs": [
        {
          "output_type": "execute_result",
          "data": {
            "text/plain": [
              "('yogurt', 'zwieback')"
            ]
          },
          "metadata": {},
          "execution_count": 120
        }
      ]
    },
    {
      "cell_type": "code",
      "source": [
        "min_lift_key = min(res, key=res.get)\n",
        "min_lift_key\n",
        "min(res)"
      ],
      "metadata": {
        "colab": {
          "base_uri": "https://localhost:8080/"
        },
        "id": "fQBxOEgowaDN",
        "outputId": "5431671e-1c64-4d1e-8217-eff9bd2f384d"
      },
      "execution_count": 121,
      "outputs": [
        {
          "output_type": "execute_result",
          "data": {
            "text/plain": [
              "('Instant food products', 'UHT-milk')"
            ]
          },
          "metadata": {},
          "execution_count": 121
        }
      ]
    },
    {
      "cell_type": "markdown",
      "metadata": {
        "id": "84QNb4wGkyVr"
      },
      "source": [
        "Иногда в чеках пытаются искать __продукты-якоря.__ То есть продукты, которые являются основными. Например: айфон - основной продукт, наушники и чехол - дополнения к нему. Подумайте как можно попытаться найти такие продукты на основе простых метрик, основанных на подсчёте условных вероятностей."
      ]
    },
    {
      "cell_type": "markdown",
      "metadata": {
        "id": "IXC0MmPVkyVr"
      },
      "source": [
        "<center>\n",
        "<img src=\"https://pp.userapi.com/c638028/v638028181/52e5e/1X-dkzNN1hk.jpg\" width=\"400\">\n",
        "</center>"
      ]
    }
  ],
  "metadata": {
    "kernelspec": {
      "display_name": "Python 3",
      "language": "python",
      "name": "python3"
    },
    "language_info": {
      "codemirror_mode": {
        "name": "ipython",
        "version": 3
      },
      "file_extension": ".py",
      "mimetype": "text/x-python",
      "name": "python",
      "nbconvert_exporter": "python",
      "pygments_lexer": "ipython3",
      "version": "3.7.6"
    },
    "colab": {
      "provenance": [],
      "include_colab_link": true
    }
  },
  "nbformat": 4,
  "nbformat_minor": 0
}